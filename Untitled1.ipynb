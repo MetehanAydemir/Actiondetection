{
 "cells": [
  {
   "cell_type": "code",
   "execution_count": 1,
   "id": "c8f8f282",
   "metadata": {
    "scrolled": true
   },
   "outputs": [
    {
     "name": "stdout",
     "output_type": "stream",
     "text": [
      "Requirement already satisfied: mediapipe in c:\\programdata\\anaconda3\\envs\\action\\lib\\site-packages (0.8.10)\n",
      "Requirement already satisfied: matplotlib in c:\\programdata\\anaconda3\\envs\\action\\lib\\site-packages (from mediapipe) (3.5.2)\n",
      "Requirement already satisfied: absl-py in c:\\programdata\\anaconda3\\envs\\action\\lib\\site-packages (from mediapipe) (1.0.0)\n",
      "Requirement already satisfied: protobuf>=3.11.4 in c:\\programdata\\anaconda3\\envs\\action\\lib\\site-packages (from mediapipe) (3.19.4)\n",
      "Requirement already satisfied: opencv-contrib-python in c:\\programdata\\anaconda3\\envs\\action\\lib\\site-packages (from mediapipe) (4.6.0.66)\n",
      "Requirement already satisfied: attrs>=19.1.0 in c:\\programdata\\anaconda3\\envs\\action\\lib\\site-packages (from mediapipe) (21.4.0)\n",
      "Requirement already satisfied: numpy in c:\\programdata\\anaconda3\\envs\\action\\lib\\site-packages (from mediapipe) (1.22.4)\n",
      "Requirement already satisfied: six in c:\\programdata\\anaconda3\\envs\\action\\lib\\site-packages (from absl-py->mediapipe) (1.16.0)\n",
      "Requirement already satisfied: python-dateutil>=2.7 in c:\\programdata\\anaconda3\\envs\\action\\lib\\site-packages (from matplotlib->mediapipe) (2.8.2)\n",
      "Requirement already satisfied: packaging>=20.0 in c:\\programdata\\anaconda3\\envs\\action\\lib\\site-packages (from matplotlib->mediapipe) (21.3)\n",
      "Requirement already satisfied: fonttools>=4.22.0 in c:\\programdata\\anaconda3\\envs\\action\\lib\\site-packages (from matplotlib->mediapipe) (4.33.3)\n",
      "Requirement already satisfied: kiwisolver>=1.0.1 in c:\\programdata\\anaconda3\\envs\\action\\lib\\site-packages (from matplotlib->mediapipe) (1.4.2)\n",
      "Requirement already satisfied: pillow>=6.2.0 in c:\\programdata\\anaconda3\\envs\\action\\lib\\site-packages (from matplotlib->mediapipe) (9.1.1)\n",
      "Requirement already satisfied: pyparsing>=2.2.1 in c:\\programdata\\anaconda3\\envs\\action\\lib\\site-packages (from matplotlib->mediapipe) (3.0.9)\n",
      "Requirement already satisfied: cycler>=0.10 in c:\\programdata\\anaconda3\\envs\\action\\lib\\site-packages (from matplotlib->mediapipe) (0.11.0)\n"
     ]
    },
    {
     "name": "stderr",
     "output_type": "stream",
     "text": [
      "WARNING: Ignoring invalid distribution -ras (c:\\programdata\\anaconda3\\envs\\action\\lib\\site-packages)\n",
      "WARNING: Ignoring invalid distribution -nsorflow (c:\\programdata\\anaconda3\\envs\\action\\lib\\site-packages)\n",
      "WARNING: Ignoring invalid distribution -ras (c:\\programdata\\anaconda3\\envs\\action\\lib\\site-packages)\n",
      "WARNING: Ignoring invalid distribution - (c:\\programdata\\anaconda3\\envs\\action\\lib\\site-packages)\n",
      "WARNING: Ignoring invalid distribution -eras (c:\\programdata\\anaconda3\\envs\\action\\lib\\site-packages)\n",
      "WARNING: Ignoring invalid distribution -ensorflow (c:\\programdata\\anaconda3\\envs\\action\\lib\\site-packages)\n",
      "WARNING: Ignoring invalid distribution -ras (c:\\programdata\\anaconda3\\envs\\action\\lib\\site-packages)\n",
      "WARNING: Ignoring invalid distribution -nsorflow (c:\\programdata\\anaconda3\\envs\\action\\lib\\site-packages)\n",
      "WARNING: Ignoring invalid distribution -ras (c:\\programdata\\anaconda3\\envs\\action\\lib\\site-packages)\n",
      "WARNING: Ignoring invalid distribution - (c:\\programdata\\anaconda3\\envs\\action\\lib\\site-packages)\n",
      "WARNING: Ignoring invalid distribution -eras (c:\\programdata\\anaconda3\\envs\\action\\lib\\site-packages)\n",
      "WARNING: Ignoring invalid distribution -ensorflow (c:\\programdata\\anaconda3\\envs\\action\\lib\\site-packages)\n",
      "WARNING: Ignoring invalid distribution -ras (c:\\programdata\\anaconda3\\envs\\action\\lib\\site-packages)\n",
      "WARNING: Ignoring invalid distribution -nsorflow (c:\\programdata\\anaconda3\\envs\\action\\lib\\site-packages)\n",
      "WARNING: Ignoring invalid distribution -ras (c:\\programdata\\anaconda3\\envs\\action\\lib\\site-packages)\n",
      "WARNING: Ignoring invalid distribution - (c:\\programdata\\anaconda3\\envs\\action\\lib\\site-packages)\n",
      "WARNING: Ignoring invalid distribution -eras (c:\\programdata\\anaconda3\\envs\\action\\lib\\site-packages)\n",
      "WARNING: Ignoring invalid distribution -ensorflow (c:\\programdata\\anaconda3\\envs\\action\\lib\\site-packages)\n",
      "WARNING: Ignoring invalid distribution -ras (c:\\programdata\\anaconda3\\envs\\action\\lib\\site-packages)\n",
      "WARNING: Ignoring invalid distribution -nsorflow (c:\\programdata\\anaconda3\\envs\\action\\lib\\site-packages)\n",
      "WARNING: Ignoring invalid distribution -ras (c:\\programdata\\anaconda3\\envs\\action\\lib\\site-packages)\n",
      "WARNING: Ignoring invalid distribution - (c:\\programdata\\anaconda3\\envs\\action\\lib\\site-packages)\n",
      "WARNING: Ignoring invalid distribution -eras (c:\\programdata\\anaconda3\\envs\\action\\lib\\site-packages)\n",
      "WARNING: Ignoring invalid distribution -ensorflow (c:\\programdata\\anaconda3\\envs\\action\\lib\\site-packages)\n",
      "WARNING: Ignoring invalid distribution -ras (c:\\programdata\\anaconda3\\envs\\action\\lib\\site-packages)\n",
      "WARNING: Ignoring invalid distribution -nsorflow (c:\\programdata\\anaconda3\\envs\\action\\lib\\site-packages)\n",
      "WARNING: Ignoring invalid distribution -ras (c:\\programdata\\anaconda3\\envs\\action\\lib\\site-packages)\n",
      "WARNING: Ignoring invalid distribution - (c:\\programdata\\anaconda3\\envs\\action\\lib\\site-packages)\n",
      "WARNING: Ignoring invalid distribution -eras (c:\\programdata\\anaconda3\\envs\\action\\lib\\site-packages)\n",
      "WARNING: Ignoring invalid distribution -ensorflow (c:\\programdata\\anaconda3\\envs\\action\\lib\\site-packages)\n",
      "WARNING: Ignoring invalid distribution -ras (c:\\programdata\\anaconda3\\envs\\action\\lib\\site-packages)\n",
      "WARNING: Ignoring invalid distribution -nsorflow (c:\\programdata\\anaconda3\\envs\\action\\lib\\site-packages)\n",
      "WARNING: Ignoring invalid distribution -ras (c:\\programdata\\anaconda3\\envs\\action\\lib\\site-packages)\n",
      "WARNING: Ignoring invalid distribution - (c:\\programdata\\anaconda3\\envs\\action\\lib\\site-packages)\n",
      "WARNING: Ignoring invalid distribution -eras (c:\\programdata\\anaconda3\\envs\\action\\lib\\site-packages)\n",
      "WARNING: Ignoring invalid distribution -ensorflow (c:\\programdata\\anaconda3\\envs\\action\\lib\\site-packages)\n",
      "WARNING: There was an error checking the latest version of pip.\n"
     ]
    }
   ],
   "source": [
    "!pip install mediapipe tensorflow opencv-python mediapipe sklearn matplotlib"
   ]
  },
  {
   "cell_type": "code",
   "execution_count": 9,
   "id": "6d6082eb",
   "metadata": {},
   "outputs": [],
   "source": [
    "import cv2\n",
    "import numpy as np\n",
    "import os\n",
    "import matplotlib.pyplot as plt\n",
    "import time\n",
    "import mediapipe as mp\n"
   ]
  },
  {
   "cell_type": "code",
   "execution_count": 10,
   "id": "888a2474",
   "metadata": {},
   "outputs": [],
   "source": [
    "mp_holistic = mp.solutions.holistic#holistic model\n",
    "mp_drawing = mp.solutions.drawing_utils#drawing utilities"
   ]
  },
  {
   "cell_type": "code",
   "execution_count": 11,
   "id": "c406b79a",
   "metadata": {},
   "outputs": [],
   "source": [
    "def mediapipe_detection(image, model):\n",
    "    image =cv2.cvtColor(image,cv2.COLOR_BGR2RGB)\n",
    "    image.flags.writable = False\n",
    "    results = model.process(image)\n",
    "    image.flags.writable = True\n",
    "    image.flags.writeable = True\n",
    "    image = cv2.cvtColor(image, cv2.COLOR_BGR2RGB)\n",
    "    return image,results\n"
   ]
  },
  {
   "cell_type": "code",
   "execution_count": null,
   "id": "9b0b8a66",
   "metadata": {},
   "outputs": [],
   "source": []
  },
  {
   "cell_type": "code",
   "execution_count": 8,
   "id": "11385e6e",
   "metadata": {},
   "outputs": [],
   "source": [
    "cap = cv2.VideoCapture(0)\n",
    "#set mediapipe model\n",
    "with mp_holistic.Holistic(min_detection_confidence=0.5, min_tracking_confidence=0.5) as holistic:\n",
    "    while cap.isOpened():\n",
    "        ret,frame=cap.read()\n",
    "        \n",
    "        image,results = mediapipe_detection(frame, model)\n",
    "        \n",
    "        cv2.imshow('OpenCV Feed',frame)\n",
    "        \n",
    "        if cv2.waitKey(10)&0xFF == ord('q'):\n",
    "            break\n",
    "cap.release()\n",
    "cv2.destroyAllWindows()"
   ]
  },
  {
   "cell_type": "code",
   "execution_count": 12,
   "id": "17d4ea86",
   "metadata": {},
   "outputs": [
    {
     "ename": "NameError",
     "evalue": "name 'results' is not defined",
     "output_type": "error",
     "traceback": [
      "\u001b[1;31m---------------------------------------------------------------------------\u001b[0m",
      "\u001b[1;31mNameError\u001b[0m                                 Traceback (most recent call last)",
      "\u001b[1;32mC:\\Users\\AILAB-~1\\AppData\\Local\\Temp/ipykernel_3340/962467392.py\u001b[0m in \u001b[0;36m<module>\u001b[1;34m\u001b[0m\n\u001b[1;32m----> 1\u001b[1;33m \u001b[0mresults\u001b[0m\u001b[1;33m\u001b[0m\u001b[1;33m\u001b[0m\u001b[0m\n\u001b[0m",
      "\u001b[1;31mNameError\u001b[0m: name 'results' is not defined"
     ]
    }
   ],
   "source": []
  },
  {
   "cell_type": "code",
   "execution_count": null,
   "id": "61cfb04a",
   "metadata": {},
   "outputs": [],
   "source": []
  }
 ],
 "metadata": {
  "kernelspec": {
   "display_name": "Python 3 (ipykernel)",
   "language": "python",
   "name": "python3"
  },
  "language_info": {
   "codemirror_mode": {
    "name": "ipython",
    "version": 3
   },
   "file_extension": ".py",
   "mimetype": "text/x-python",
   "name": "python",
   "nbconvert_exporter": "python",
   "pygments_lexer": "ipython3",
   "version": "3.9.7"
  }
 },
 "nbformat": 4,
 "nbformat_minor": 5
}
