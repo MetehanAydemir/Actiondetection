{
 "cells": [
  {
   "cell_type": "markdown",
   "metadata": {},
   "source": [
    "# 1. Import and Install Dependencies"
   ]
  },
  {
   "cell_type": "code",
   "execution_count": 1,
   "metadata": {},
   "outputs": [
    {
     "name": "stderr",
     "output_type": "stream",
     "text": [
      "WARNING: Ignoring invalid distribution -ras (c:\\programdata\\anaconda3\\envs\\action\\lib\\site-packages)\n",
      "WARNING: Ignoring invalid distribution -nsorflow (c:\\programdata\\anaconda3\\envs\\action\\lib\\site-packages)\n",
      "WARNING: Ignoring invalid distribution -ras (c:\\programdata\\anaconda3\\envs\\action\\lib\\site-packages)\n",
      "WARNING: Ignoring invalid distribution - (c:\\programdata\\anaconda3\\envs\\action\\lib\\site-packages)\n",
      "WARNING: Ignoring invalid distribution -eras (c:\\programdata\\anaconda3\\envs\\action\\lib\\site-packages)\n",
      "WARNING: Ignoring invalid distribution -ensorflow (c:\\programdata\\anaconda3\\envs\\action\\lib\\site-packages)\n",
      "WARNING: Ignoring invalid distribution -ras (c:\\programdata\\anaconda3\\envs\\action\\lib\\site-packages)\n",
      "WARNING: Ignoring invalid distribution -nsorflow (c:\\programdata\\anaconda3\\envs\\action\\lib\\site-packages)\n",
      "WARNING: Ignoring invalid distribution -ras (c:\\programdata\\anaconda3\\envs\\action\\lib\\site-packages)\n",
      "WARNING: Ignoring invalid distribution - (c:\\programdata\\anaconda3\\envs\\action\\lib\\site-packages)\n",
      "WARNING: Ignoring invalid distribution -eras (c:\\programdata\\anaconda3\\envs\\action\\lib\\site-packages)\n",
      "WARNING: Ignoring invalid distribution -ensorflow (c:\\programdata\\anaconda3\\envs\\action\\lib\\site-packages)\n",
      "ERROR: Could not find a version that satisfies the requirement tensorflow==2.4.1 (from versions: 2.5.0, 2.5.1, 2.5.2, 2.5.3, 2.6.0rc0, 2.6.0rc1, 2.6.0rc2, 2.6.0, 2.6.1, 2.6.2, 2.6.3, 2.6.4, 2.6.5, 2.7.0rc0, 2.7.0rc1, 2.7.0, 2.7.1, 2.7.2, 2.7.3, 2.8.0rc0, 2.8.0rc1, 2.8.0, 2.8.1, 2.8.2, 2.9.0rc0, 2.9.0rc1, 2.9.0rc2, 2.9.0, 2.9.1)\n",
      "ERROR: No matching distribution found for tensorflow==2.4.1\n",
      "WARNING: Ignoring invalid distribution -ras (c:\\programdata\\anaconda3\\envs\\action\\lib\\site-packages)\n",
      "WARNING: Ignoring invalid distribution -nsorflow (c:\\programdata\\anaconda3\\envs\\action\\lib\\site-packages)\n",
      "WARNING: Ignoring invalid distribution -ras (c:\\programdata\\anaconda3\\envs\\action\\lib\\site-packages)\n",
      "WARNING: Ignoring invalid distribution - (c:\\programdata\\anaconda3\\envs\\action\\lib\\site-packages)\n",
      "WARNING: Ignoring invalid distribution -eras (c:\\programdata\\anaconda3\\envs\\action\\lib\\site-packages)\n",
      "WARNING: Ignoring invalid distribution -ensorflow (c:\\programdata\\anaconda3\\envs\\action\\lib\\site-packages)\n",
      "WARNING: Ignoring invalid distribution -ras (c:\\programdata\\anaconda3\\envs\\action\\lib\\site-packages)\n",
      "WARNING: Ignoring invalid distribution -nsorflow (c:\\programdata\\anaconda3\\envs\\action\\lib\\site-packages)\n",
      "WARNING: Ignoring invalid distribution -ras (c:\\programdata\\anaconda3\\envs\\action\\lib\\site-packages)\n",
      "WARNING: Ignoring invalid distribution - (c:\\programdata\\anaconda3\\envs\\action\\lib\\site-packages)\n",
      "WARNING: Ignoring invalid distribution -eras (c:\\programdata\\anaconda3\\envs\\action\\lib\\site-packages)\n",
      "WARNING: Ignoring invalid distribution -ensorflow (c:\\programdata\\anaconda3\\envs\\action\\lib\\site-packages)\n",
      "WARNING: Ignoring invalid distribution -ras (c:\\programdata\\anaconda3\\envs\\action\\lib\\site-packages)\n",
      "WARNING: Ignoring invalid distribution -nsorflow (c:\\programdata\\anaconda3\\envs\\action\\lib\\site-packages)\n",
      "WARNING: Ignoring invalid distribution -ras (c:\\programdata\\anaconda3\\envs\\action\\lib\\site-packages)\n",
      "WARNING: Ignoring invalid distribution - (c:\\programdata\\anaconda3\\envs\\action\\lib\\site-packages)\n",
      "WARNING: Ignoring invalid distribution -eras (c:\\programdata\\anaconda3\\envs\\action\\lib\\site-packages)\n",
      "WARNING: Ignoring invalid distribution -ensorflow (c:\\programdata\\anaconda3\\envs\\action\\lib\\site-packages)\n",
      "WARNING: There was an error checking the latest version of pip.\n"
     ]
    }
   ],
   "source": [
    "!pip install tensorflow==2.4.1 tensorflow-gpu==2.4.1 opencv-python mediapipe sklearn matplotlib"
   ]
  },
  {
   "cell_type": "code",
   "execution_count": 1,
   "metadata": {},
   "outputs": [],
   "source": [
    "import cv2\n",
    "import numpy as np\n",
    "import os\n",
    "from matplotlib import pyplot as plt\n",
    "import time\n",
    "import mediapipe as mp"
   ]
  },
  {
   "cell_type": "markdown",
   "metadata": {},
   "source": [
    "# 2. Keypoints using MP Holistic"
   ]
  },
  {
   "cell_type": "code",
   "execution_count": 2,
   "metadata": {},
   "outputs": [],
   "source": [
    "mp_holistic = mp.solutions.holistic # Holistic model\n",
    "mp_drawing = mp.solutions.drawing_utils # Drawing utilities"
   ]
  },
  {
   "cell_type": "code",
   "execution_count": 3,
   "metadata": {},
   "outputs": [],
   "source": [
    "def mediapipe_detection(image, model):\n",
    "    image = cv2.cvtColor(image, cv2.COLOR_BGR2RGB) # COLOR CONVERSION BGR 2 RGB\n",
    "    image.flags.writeable = False                  # Image is no longer writeable\n",
    "    results = model.process(image)                 # Make prediction\n",
    "    image.flags.writeable = True                   # Image is now writeable \n",
    "    image = cv2.cvtColor(image, cv2.COLOR_RGB2BGR) # COLOR COVERSION RGB 2 BGR\n",
    "    return image, results"
   ]
  },
  {
   "cell_type": "code",
   "execution_count": 4,
   "metadata": {},
   "outputs": [],
   "source": [
    "def draw_landmarks(image, results):\n",
    "    mp_drawing.draw_landmarks(image, results.face_landmarks, mp_holistic.FACEMESH_CONTOURS) # Draw face connections\n",
    "    mp_drawing.draw_landmarks(image, results.pose_landmarks, mp_holistic.POSE_CONNECTIONS) # Draw pose connections\n",
    "    mp_drawing.draw_landmarks(image, results.left_hand_landmarks, mp_holistic.HAND_CONNECTIONS) # Draw left hand connections\n",
    "    mp_drawing.draw_landmarks(image, results.right_hand_landmarks, mp_holistic.HAND_CONNECTIONS) # Draw right hand connections"
   ]
  },
  {
   "cell_type": "code",
   "execution_count": 5,
   "metadata": {},
   "outputs": [],
   "source": [
    "def draw_styled_landmarks(image, results):\n",
    "    # Draw face connections\n",
    "    mp_drawing.draw_landmarks(image, results.face_landmarks, mp_holistic.FACEMESH_CONTOURS, \n",
    "                             mp_drawing.DrawingSpec(color=(80,110,10), thickness=1, circle_radius=1), \n",
    "                             mp_drawing.DrawingSpec(color=(80,256,121), thickness=1, circle_radius=1)\n",
    "                             ) \n",
    "    # Draw pose connections\n",
    "    mp_drawing.draw_landmarks(image, results.pose_landmarks, mp_holistic.POSE_CONNECTIONS,\n",
    "                             mp_drawing.DrawingSpec(color=(80,22,10), thickness=2, circle_radius=4), \n",
    "                             mp_drawing.DrawingSpec(color=(80,44,121), thickness=2, circle_radius=2)\n",
    "                             ) \n",
    "    # Draw left hand connections\n",
    "    mp_drawing.draw_landmarks(image, results.left_hand_landmarks, mp_holistic.HAND_CONNECTIONS, \n",
    "                             mp_drawing.DrawingSpec(color=(121,22,76), thickness=2, circle_radius=4), \n",
    "                             mp_drawing.DrawingSpec(color=(121,44,250), thickness=2, circle_radius=2)\n",
    "                             ) \n",
    "    # Draw right hand connections  \n",
    "    mp_drawing.draw_landmarks(image, results.right_hand_landmarks, mp_holistic.HAND_CONNECTIONS, \n",
    "                             mp_drawing.DrawingSpec(color=(245,117,66), thickness=2, circle_radius=4), \n",
    "                             mp_drawing.DrawingSpec(color=(245,66,230), thickness=2, circle_radius=2)\n",
    "                             ) "
   ]
  },
  {
   "cell_type": "code",
   "execution_count": 8,
   "metadata": {},
   "outputs": [
    {
     "name": "stdout",
     "output_type": "stream",
     "text": [
      "<class 'mediapipe.python.solution_base.SolutionOutputs'>\n",
      "<class 'mediapipe.python.solution_base.SolutionOutputs'>\n",
      "<class 'mediapipe.python.solution_base.SolutionOutputs'>\n",
      "<class 'mediapipe.python.solution_base.SolutionOutputs'>\n",
      "<class 'mediapipe.python.solution_base.SolutionOutputs'>\n",
      "<class 'mediapipe.python.solution_base.SolutionOutputs'>\n",
      "<class 'mediapipe.python.solution_base.SolutionOutputs'>\n",
      "<class 'mediapipe.python.solution_base.SolutionOutputs'>\n",
      "<class 'mediapipe.python.solution_base.SolutionOutputs'>\n",
      "<class 'mediapipe.python.solution_base.SolutionOutputs'>\n",
      "<class 'mediapipe.python.solution_base.SolutionOutputs'>\n",
      "<class 'mediapipe.python.solution_base.SolutionOutputs'>\n",
      "<class 'mediapipe.python.solution_base.SolutionOutputs'>\n",
      "<class 'mediapipe.python.solution_base.SolutionOutputs'>\n",
      "<class 'mediapipe.python.solution_base.SolutionOutputs'>\n",
      "<class 'mediapipe.python.solution_base.SolutionOutputs'>\n",
      "<class 'mediapipe.python.solution_base.SolutionOutputs'>\n",
      "<class 'mediapipe.python.solution_base.SolutionOutputs'>\n",
      "<class 'mediapipe.python.solution_base.SolutionOutputs'>\n",
      "<class 'mediapipe.python.solution_base.SolutionOutputs'>\n",
      "<class 'mediapipe.python.solution_base.SolutionOutputs'>\n",
      "<class 'mediapipe.python.solution_base.SolutionOutputs'>\n",
      "<class 'mediapipe.python.solution_base.SolutionOutputs'>\n",
      "<class 'mediapipe.python.solution_base.SolutionOutputs'>\n",
      "<class 'mediapipe.python.solution_base.SolutionOutputs'>\n",
      "<class 'mediapipe.python.solution_base.SolutionOutputs'>\n",
      "<class 'mediapipe.python.solution_base.SolutionOutputs'>\n",
      "<class 'mediapipe.python.solution_base.SolutionOutputs'>\n",
      "<class 'mediapipe.python.solution_base.SolutionOutputs'>\n",
      "<class 'mediapipe.python.solution_base.SolutionOutputs'>\n"
     ]
    }
   ],
   "source": [
    "cap = cv2.VideoCapture(0)\n",
    "# Set mediapipe model \n",
    "with mp_holistic.Holistic(min_detection_confidence=0.5, min_tracking_confidence=0.5) as holistic:\n",
    "    while cap.isOpened():\n",
    "\n",
    "        # Read feed\n",
    "        ret, frame = cap.read()\n",
    "\n",
    "        # Make detections\n",
    "        image, results = mediapipe_detection(frame, holistic)\n",
    "        print(results)\n",
    "        \n",
    "        # Draw landmarks\n",
    "        draw_styled_landmarks(image, results)\n",
    "\n",
    "        # Show to screen\n",
    "        cv2.imshow('OpenCV Feed', image)\n",
    "\n",
    "        # Break gracefully\n",
    "        if cv2.waitKey(10) & 0xFF == ord('q'):\n",
    "            break\n",
    "    cap.release()\n",
    "    cv2.destroyAllWindows()"
   ]
  },
  {
   "cell_type": "code",
   "execution_count": 9,
   "metadata": {},
   "outputs": [],
   "source": [
    "draw_landmarks(frame, results)"
   ]
  },
  {
   "cell_type": "code",
   "execution_count": 10,
   "metadata": {},
   "outputs": [
    {
     "data": {
      "text/plain": [
       "<matplotlib.image.AxesImage at 0x1590835a970>"
      ]
     },
     "execution_count": 10,
     "metadata": {},
     "output_type": "execute_result"
    },
    {
     "data": {
      "image/png": "[encoded data removed]",
      "text/plain": [
       "<Figure size 432x288 with 1 Axes>"
      ]
     },
     "metadata": {
      "needs_background": "light"
     },
     "output_type": "display_data"
    }
   ],
   "source": [
    "plt.imshow(cv2.cvtColor(frame, cv2.COLOR_BGR2RGB))"
   ]
  },
  {
   "cell_type": "markdown",
   "metadata": {},
   "source": [
    "# 3. Extract Keypoint Values"
   ]
  },
  {
   "cell_type": "code",
   "execution_count": 11,
   "metadata": {},
   "outputs": [
    {
     "data": {
      "text/plain": [
       "21"
      ]
     },
     "execution_count": 11,
     "metadata": {},
     "output_type": "execute_result"
    }
   ],
   "source": [
    "len(results.left_hand_landmarks.landmark)"
   ]
  },
  {
   "cell_type": "code",
   "execution_count": 12,
   "metadata": {},
   "outputs": [],
   "source": [
    "pose = []\n",
    "for res in results.pose_landmarks.landmark:\n",
    "    test = np.array([res.x, res.y, res.z, res.visibility])\n",
    "    pose.append(test)"
   ]
  },
  {
   "cell_type": "code",
   "execution_count": 13,
   "metadata": {},
   "outputs": [],
   "source": [
    "pose = np.array([[res.x, res.y, res.z, res.visibility] for res in results.pose_landmarks.landmark]).flatten() if results.pose_landmarks else np.zeros(132)\n",
    "face = np.array([[res.x, res.y, res.z] for res in results.face_landmarks.landmark]).flatten() if results.face_landmarks else np.zeros(1404)\n",
    "lh = np.array([[res.x, res.y, res.z] for res in results.left_hand_landmarks.landmark]).flatten() if results.left_hand_landmarks else np.zeros(21*3)\n",
    "rh = np.array([[res.x, res.y, res.z] for res in results.right_hand_landmarks.landmark]).flatten() if results.right_hand_landmarks else np.zeros(21*3)"
   ]
  },
  {
   "cell_type": "code",
   "execution_count": 14,
   "metadata": {},
   "outputs": [],
   "source": [
    "face = np.array([[res.x, res.y, res.z] for res in results.face_landmarks.landmark]).flatten() if results.face_landmarks else np.zeros(1404)\n"
   ]
  },
  {
   "cell_type": "code",
   "execution_count": 15,
   "metadata": {},
   "outputs": [],
   "source": [
    "def extract_keypoints(results):\n",
    "    pose = np.array([[res.x, res.y, res.z, res.visibility] for res in results.pose_landmarks.landmark]).flatten() if results.pose_landmarks else np.zeros(33*4)\n",
    "    face = np.array([[res.x, res.y, res.z] for res in results.face_landmarks.landmark]).flatten() if results.face_landmarks else np.zeros(468*3)\n",
    "    lh = np.array([[res.x, res.y, res.z] for res in results.left_hand_landmarks.landmark]).flatten() if results.left_hand_landmarks else np.zeros(21*3)\n",
    "    rh = np.array([[res.x, res.y, res.z] for res in results.right_hand_landmarks.landmark]).flatten() if results.right_hand_landmarks else np.zeros(21*3)\n",
    "    return np.concatenate([pose, face, lh, rh])"
   ]
  },
  {
   "cell_type": "code",
   "execution_count": 16,
   "metadata": {},
   "outputs": [],
   "source": [
    "result_test = extract_keypoints(results)"
   ]
  },
  {
   "cell_type": "code",
   "execution_count": 17,
   "metadata": {},
   "outputs": [
    {
     "data": {
      "text/plain": [
       "array([ 0.52004975,  0.49956378, -0.68091959, ...,  0.        ,\n",
       "        0.        ,  0.        ])"
      ]
     },
     "execution_count": 17,
     "metadata": {},
     "output_type": "execute_result"
    }
   ],
   "source": [
    "result_test"
   ]
  },
  {
   "cell_type": "code",
   "execution_count": 18,
   "metadata": {},
   "outputs": [],
   "source": [
    "np.save('0', result_test)"
   ]
  },
  {
   "cell_type": "code",
   "execution_count": 19,
   "metadata": {},
   "outputs": [
    {
     "data": {
      "text/plain": [
       "array([ 0.52004975,  0.49956378, -0.68091959, ...,  0.        ,\n",
       "        0.        ,  0.        ])"
      ]
     },
     "execution_count": 19,
     "metadata": {},
     "output_type": "execute_result"
    }
   ],
   "source": [
    "np.load('0.npy')"
   ]
  },
  {
   "cell_type": "markdown",
   "metadata": {},
   "source": [
    "# 4. Setup Folders for Collection"
   ]
  },
  {
   "cell_type": "code",
   "execution_count": 20,
   "metadata": {},
   "outputs": [],
   "source": [
    "# Path for exported data, numpy arrays\n",
    "DATA_PATH = os.path.join('MP_Data') \n",
    "\n",
    "# Actions that we try to detect\n",
    "actions = np.array(['aktifdegil', 'icmek', 'aktif','kimseyok'])\n",
    "\n",
    "# Thirty videos worth of data\n",
    "no_sequences = 60\n",
    "\n",
    "# Videos are going to be 30 frames in length\n",
    "sequence_length = 30\n",
    "\n",
    "# Folder start\n",
    "start_folder = 30\n",
    "\n",
    "secili = np.array(['icmek'])"
   ]
  },
  {
   "cell_type": "code",
   "execution_count": 24,
   "metadata": {},
   "outputs": [],
   "source": [
    "for action in actions: \n",
    "    for sequence in range(no_sequences):\n",
    "        try: \n",
    "            os.makedirs(os.path.join(DATA_PATH, action, str(sequence)))\n",
    "        except:\n",
    "            pass"
   ]
  },
  {
   "cell_type": "code",
   "execution_count": 21,
   "metadata": {},
   "outputs": [],
   "source": [
    "for action in secili: \n",
    "    dirmax = np.max(np.array(os.listdir(os.path.join(DATA_PATH, action))).astype(int))\n",
    "    for sequence in range(1,no_sequences+1):\n",
    "        try: \n",
    "            os.makedirs(os.path.join(DATA_PATH, action, str(dirmax+sequence)))\n",
    "        except:\n",
    "            pass"
   ]
  },
  {
   "cell_type": "code",
   "execution_count": null,
   "metadata": {},
   "outputs": [],
   "source": []
  },
  {
   "cell_type": "markdown",
   "metadata": {},
   "source": [
    "# 5. Collect Keypoint Values for Training and Testing"
   ]
  },
  {
   "cell_type": "code",
   "execution_count": 22,
   "metadata": {},
   "outputs": [],
   "source": [
    "cap = cv2.VideoCapture(0)\n",
    "# Set mediapipe model \n",
    "with mp_holistic.Holistic(min_detection_confidence=0.5, min_tracking_confidence=0.5) as holistic:\n",
    "    \n",
    "    # NEW LOOP\n",
    "    # Loop through actions\n",
    "    for action in secili:\n",
    "        # Loop through sequences aka videos\n",
    "        for sequence in range(30):\n",
    "            # Loop through video length aka sequence length\n",
    "            for frame_num in range(sequence_length,60):\n",
    "\n",
    "                # Read feed\n",
    "                ret, frame = cap.read()\n",
    "\n",
    "                # Make detections\n",
    "                image, results = mediapipe_detection(frame, holistic)\n",
    "\n",
    "                # Draw landmarks\n",
    "                draw_styled_landmarks(image, results)\n",
    "                \n",
    "                # NEW Apply wait logic\n",
    "                if frame_num == 0: \n",
    "                    cv2.putText(image, 'STARTING COLLECTION', (120,200), \n",
    "                               cv2.FONT_HERSHEY_SIMPLEX, 1, (0,255, 0), 4, cv2.LINE_AA)\n",
    "                    cv2.putText(image, 'Collecting frames for {} Video Number {}'.format(action, sequence), (15,12), \n",
    "                               cv2.FONT_HERSHEY_SIMPLEX, 0.5, (0, 0, 255), 1, cv2.LINE_AA)\n",
    "                    # Show to screen\n",
    "                    cv2.imshow('OpenCV Feed', image)\n",
    "                    cv2.waitKey(500)\n",
    "                else: \n",
    "                    cv2.putText(image, 'Collecting frames for {} Video Number {}'.format(action, sequence), (15,12), \n",
    "                               cv2.FONT_HERSHEY_SIMPLEX, 0.5, (0, 0, 255), 1, cv2.LINE_AA)\n",
    "                    # Show to screen\n",
    "                    cv2.imshow('OpenCV Feed', image)\n",
    "                \n",
    "                # NEW Export keypoints\n",
    "                keypoints = extract_keypoints(results)\n",
    "                npy_path = os.path.join(DATA_PATH, action, str(sequence), str(frame_num))\n",
    "                np.save(npy_path, keypoints)\n",
    "\n",
    "                # Break gracefully\n",
    "                if cv2.waitKey(10) & 0xFF == ord('q'):\n",
    "                    break\n",
    "                    \n",
    "    cap.release()\n",
    "    cv2.destroyAllWindows()"
   ]
  },
  {
   "cell_type": "code",
   "execution_count": null,
   "metadata": {},
   "outputs": [],
   "source": [
    "cap = cv2.VideoCapture(0)\n",
    "# Set mediapipe model \n",
    "with mp_holistic.Holistic(min_detection_confidence=0.5, min_tracking_confidence=0.5) as holistic:\n",
    "    \n",
    "    # NEW LOOP\n",
    "    # Loop through actions\n",
    "    for action in actions:\n",
    "        # Loop through sequences aka videos\n",
    "        for sequence in range(30,60):\n",
    "            # Loop through video length aka sequence length\n",
    "            for frame_num in range(sequence_length):\n",
    "\n",
    "                # Read feed\n",
    "                ret, frame = cap.read()\n",
    "\n",
    "                # Make detections\n",
    "                image, results = mediapipe_detection(frame, holistic)\n",
    "#                 print(results)\n",
    "\n",
    "                # Draw landmarks\n",
    "                draw_styled_landmarks(image, results)\n",
    "                \n",
    "                # NEW Apply wait logic\n",
    "                if frame_num == 0: \n",
    "                    cv2.putText(image, 'STARTING COLLECTION', (120,200), \n",
    "                               cv2.FONT_HERSHEY_SIMPLEX, 1, (0,255, 0), 4, cv2.LINE_AA)\n",
    "                    cv2.putText(image, 'Collecting frames for {} Video Number {}'.format(action, sequence), (15,12), \n",
    "                               cv2.FONT_HERSHEY_SIMPLEX, 0.5, (0, 0, 255), 1, cv2.LINE_AA)\n",
    "                    # Show to screen\n",
    "                    cv2.imshow('OpenCV Feed', image)\n",
    "                    cv2.waitKey(2000)\n",
    "                else: \n",
    "                    cv2.putText(image, 'Collecting frames for {} Video Number {}'.format(action, sequence), (15,12), \n",
    "                               cv2.FONT_HERSHEY_SIMPLEX, 0.5, (0, 0, 255), 1, cv2.LINE_AA)\n",
    "                    # Show to screen\n",
    "                    cv2.imshow('OpenCV Feed', image)\n",
    "                \n",
    "                # NEW Export keypoints\n",
    "                keypoints = extract_keypoints(results)\n",
    "                npy_path = os.path.join(DATA_PATH, action, str(sequence), str(frame_num))\n",
    "                np.save(npy_path, keypoints)\n",
    "\n",
    "                # Break gracefully\n",
    "                if cv2.waitKey(10) & 0xFF == ord('q'):\n",
    "                    break\n",
    "                    \n",
    "    cap.release()\n",
    "    cv2.destroyAllWindows()"
   ]
  },
  {
   "cell_type": "code",
   "execution_count": 20,
   "metadata": {},
   "outputs": [],
   "source": [
    "cap.release()\n",
    "cv2.destroyAllWindows()"
   ]
  },
  {
   "cell_type": "markdown",
   "metadata": {},
   "source": [
    "# 6. Preprocess Data and Create Labels and Features"
   ]
  },
  {
   "cell_type": "code",
   "execution_count": 28,
   "metadata": {},
   "outputs": [],
   "source": [
    "from sklearn.model_selection import train_test_split\n",
    "from tensorflow.keras.utils import to_categorical"
   ]
  },
  {
   "cell_type": "code",
   "execution_count": 29,
   "metadata": {},
   "outputs": [],
   "source": [
    "label_map = {label:num for num, label in enumerate(actions)}"
   ]
  },
  {
   "cell_type": "code",
   "execution_count": 30,
   "metadata": {},
   "outputs": [
    {
     "data": {
      "text/plain": [
       "{'konusmak': 0, 'icmek': 1, 'aktif': 2, 'kimseyok': 3}"
      ]
     },
     "execution_count": 30,
     "metadata": {},
     "output_type": "execute_result"
    }
   ],
   "source": [
    "label_map"
   ]
  },
  {
   "cell_type": "code",
   "execution_count": 31,
   "metadata": {},
   "outputs": [],
   "source": [
    "sequences, labels = [], []\n",
    "for action in actions:\n",
    "    for sequence in np.array(os.listdir(os.path.join(DATA_PATH, action))).astype(int):\n",
    "        window = []\n",
    "        for frame_num in range(sequence_length):\n",
    "            res = np.load(os.path.join(DATA_PATH, action, str(sequence), \"{}.npy\".format(frame_num)))\n",
    "            window.append(res)\n",
    "        sequences.append(window)\n",
    "        labels.append(label_map[action])"
   ]
  },
  {
   "cell_type": "code",
   "execution_count": 32,
   "metadata": {},
   "outputs": [
    {
     "data": {
      "text/plain": [
       "(120, 30, 1662)"
      ]
     },
     "execution_count": 32,
     "metadata": {},
     "output_type": "execute_result"
    }
   ],
   "source": [
    "np.array(sequences).shape"
   ]
  },
  {
   "cell_type": "code",
   "execution_count": 33,
   "metadata": {},
   "outputs": [
    {
     "data": {
      "text/plain": [
       "(120,)"
      ]
     },
     "execution_count": 33,
     "metadata": {},
     "output_type": "execute_result"
    }
   ],
   "source": [
    "np.array(labels).shape"
   ]
  },
  {
   "cell_type": "code",
   "execution_count": 34,
   "metadata": {},
   "outputs": [],
   "source": [
    "X = np.array(sequences)"
   ]
  },
  {
   "cell_type": "code",
   "execution_count": 35,
   "metadata": {},
   "outputs": [
    {
     "data": {
      "text/plain": [
       "(120, 30, 1662)"
      ]
     },
     "execution_count": 35,
     "metadata": {},
     "output_type": "execute_result"
    }
   ],
   "source": [
    "X.shape"
   ]
  },
  {
   "cell_type": "code",
   "execution_count": 36,
   "metadata": {},
   "outputs": [],
   "source": [
    "y = to_categorical(labels).astype(int)"
   ]
  },
  {
   "cell_type": "code",
   "execution_count": 37,
   "metadata": {},
   "outputs": [],
   "source": [
    "X_train, X_test, y_train, y_test = train_test_split(X, y, test_size=0.05)"
   ]
  },
  {
   "cell_type": "code",
   "execution_count": 38,
   "metadata": {},
   "outputs": [
    {
     "data": {
      "text/plain": [
       "(6, 4)"
      ]
     },
     "execution_count": 38,
     "metadata": {},
     "output_type": "execute_result"
    }
   ],
   "source": [
    "y_test.shape"
   ]
  },
  {
   "cell_type": "markdown",
   "metadata": {},
   "source": [
    "# 7. Build and Train LSTM Neural Network"
   ]
  },
  {
   "cell_type": "code",
   "execution_count": 39,
   "metadata": {},
   "outputs": [],
   "source": [
    "from tensorflow.keras.models import Sequential\n",
    "from tensorflow.keras.layers import LSTM, Dense\n",
    "from tensorflow.keras.callbacks import TensorBoard\n",
    "import os"
   ]
  },
  {
   "cell_type": "code",
   "execution_count": 40,
   "metadata": {},
   "outputs": [],
   "source": [
    "log_dir = os.path.join('Logs')\n",
    "tb_callback = TensorBoard(log_dir=log_dir)"
   ]
  },
  {
   "cell_type": "code",
   "execution_count": 41,
   "metadata": {},
   "outputs": [
    {
     "name": "stdout",
     "output_type": "stream",
     "text": [
      "WARNING:tensorflow:Layer lstm will not use cuDNN kernels since it doesn't meet the criteria. It will use a generic GPU kernel as fallback when running on GPU.\n",
      "WARNING:tensorflow:Layer lstm_1 will not use cuDNN kernels since it doesn't meet the criteria. It will use a generic GPU kernel as fallback when running on GPU.\n",
      "WARNING:tensorflow:Layer lstm_2 will not use cuDNN kernels since it doesn't meet the criteria. It will use a generic GPU kernel as fallback when running on GPU.\n"
     ]
    }
   ],
   "source": [
    "model = Sequential()\n",
    "model.add(LSTM(64, return_sequences=True, activation='relu', input_shape=(30,1662)))\n",
    "model.add(LSTM(128, return_sequences=True, activation='relu'))\n",
    "model.add(LSTM(64, return_sequences=False, activation='relu'))\n",
    "model.add(Dense(64, activation='relu'))\n",
    "model.add(Dense(32, activation='relu'))\n",
    "model.add(Dense(actions.shape[0], activation='softmax'))"
   ]
  },
  {
   "cell_type": "code",
   "execution_count": 42,
   "metadata": {},
   "outputs": [],
   "source": [
    "model.compile(optimizer='Adam', loss='categorical_crossentropy', metrics=['categorical_accuracy'])"
   ]
  },
  {
   "cell_type": "code",
   "execution_count": 43,
   "metadata": {},
   "outputs": [],
   "source": [
    "import tensorflow as tf\n",
    "checkpoint_filepath = 'model/'\n",
    "model_checkpoint_callback = tf.keras.callbacks.ModelCheckpoint(\n",
    "    filepath=checkpoint_filepath,\n",
    "    save_weights_only=True,\n",
    "    mode='max',\n",
    "    save_best_only=True)\n",
    "metric='categorical_accuracy'\n",
    "cp_save=tf.keras.callbacks.ModelCheckpoint(filepath=r\"model/{}\".format('actionnew.h5'), monitor=metric,\n",
    "                    verbose=2, save_best_only=True, mode='max')"
   ]
  },
  {
   "cell_type": "code",
   "execution_count": null,
   "metadata": {
    "scrolled": true
   },
   "outputs": [
    {
     "name": "stdout",
     "output_type": "stream",
     "text": [
      "Epoch 1/1500\n",
      "4/4 [==============================] - ETA: 0s - loss: 1.4684 - categorical_accuracy: 0.2895\n",
      "Epoch 1: categorical_accuracy improved from -inf to 0.28947, saving model to model\\actionnew.h5\n",
      "4/4 [==============================] - 5s 605ms/step - loss: 1.4684 - categorical_accuracy: 0.2895 - val_loss: 2.6839 - val_categorical_accuracy: 0.3333\n",
      "Epoch 2/1500\n",
      "4/4 [==============================] - ETA: 0s - loss: 1.7637 - categorical_accuracy: 0.3509\n",
      "Epoch 2: categorical_accuracy improved from 0.28947 to 0.35088, saving model to model\\actionnew.h5\n",
      "4/4 [==============================] - 2s 554ms/step - loss: 1.7637 - categorical_accuracy: 0.3509 - val_loss: 2.1932 - val_categorical_accuracy: 0.3333\n",
      "Epoch 3/1500\n",
      "4/4 [==============================] - ETA: 0s - loss: 1.5207 - categorical_accuracy: 0.3860\n",
      "Epoch 3: categorical_accuracy improved from 0.35088 to 0.38596, saving model to model\\actionnew.h5\n",
      "4/4 [==============================] - 1s 365ms/step - loss: 1.5207 - categorical_accuracy: 0.3860 - val_loss: 2.4633 - val_categorical_accuracy: 0.0000e+00\n",
      "Epoch 4/1500\n",
      "4/4 [==============================] - ETA: 0s - loss: 1.8479 - categorical_accuracy: 0.3246\n",
      "Epoch 4: categorical_accuracy did not improve from 0.38596\n",
      "4/4 [==============================] - 1s 277ms/step - loss: 1.8479 - categorical_accuracy: 0.3246 - val_loss: 1.4947 - val_categorical_accuracy: 0.3333\n",
      "Epoch 5/1500\n",
      "4/4 [==============================] - ETA: 0s - loss: 1.3571 - categorical_accuracy: 0.4561\n",
      "Epoch 5: categorical_accuracy improved from 0.38596 to 0.45614, saving model to model\\actionnew.h5\n",
      "4/4 [==============================] - 2s 564ms/step - loss: 1.3571 - categorical_accuracy: 0.4561 - val_loss: 1.3279 - val_categorical_accuracy: 0.1667\n",
      "Epoch 6/1500\n",
      "4/4 [==============================] - ETA: 0s - loss: 1.4285 - categorical_accuracy: 0.3684\n",
      "Epoch 6: categorical_accuracy did not improve from 0.45614\n",
      "4/4 [==============================] - 1s 299ms/step - loss: 1.4285 - categorical_accuracy: 0.3684 - val_loss: 1.5110 - val_categorical_accuracy: 0.0000e+00\n",
      "Epoch 7/1500\n",
      "4/4 [==============================] - ETA: 0s - loss: 1.3635 - categorical_accuracy: 0.4825\n",
      "Epoch 7: categorical_accuracy improved from 0.45614 to 0.48246, saving model to model\\actionnew.h5\n",
      "4/4 [==============================] - 2s 571ms/step - loss: 1.3635 - categorical_accuracy: 0.4825 - val_loss: 1.1879 - val_categorical_accuracy: 0.5000\n",
      "Epoch 8/1500\n",
      "4/4 [==============================] - ETA: 0s - loss: 1.2301 - categorical_accuracy: 0.4474\n",
      "Epoch 8: categorical_accuracy did not improve from 0.48246\n",
      "4/4 [==============================] - 1s 314ms/step - loss: 1.2301 - categorical_accuracy: 0.4474 - val_loss: 1.1580 - val_categorical_accuracy: 0.5000\n",
      "Epoch 9/1500\n",
      "4/4 [==============================] - ETA: 0s - loss: 1.2271 - categorical_accuracy: 0.5439\n",
      "Epoch 9: categorical_accuracy improved from 0.48246 to 0.54386, saving model to model\\actionnew.h5\n",
      "4/4 [==============================] - 2s 474ms/step - loss: 1.2271 - categorical_accuracy: 0.5439 - val_loss: 0.9499 - val_categorical_accuracy: 0.8333\n",
      "Epoch 10/1500\n",
      "4/4 [==============================] - ETA: 0s - loss: 1.1485 - categorical_accuracy: 0.6140\n",
      "Epoch 10: categorical_accuracy improved from 0.54386 to 0.61404, saving model to model\\actionnew.h5\n",
      "4/4 [==============================] - 2s 639ms/step - loss: 1.1485 - categorical_accuracy: 0.6140 - val_loss: 0.8549 - val_categorical_accuracy: 0.8333\n",
      "Epoch 11/1500\n",
      "4/4 [==============================] - ETA: 0s - loss: 1.0544 - categorical_accuracy: 0.6667\n",
      "Epoch 11: categorical_accuracy improved from 0.61404 to 0.66667, saving model to model\\actionnew.h5\n",
      "4/4 [==============================] - 2s 568ms/step - loss: 1.0544 - categorical_accuracy: 0.6667 - val_loss: 0.6909 - val_categorical_accuracy: 0.8333\n",
      "Epoch 12/1500\n",
      "4/4 [==============================] - ETA: 0s - loss: 1.2279 - categorical_accuracy: 0.5702\n",
      "Epoch 12: categorical_accuracy did not improve from 0.66667\n",
      "4/4 [==============================] - 1s 308ms/step - loss: 1.2279 - categorical_accuracy: 0.5702 - val_loss: 3.2242 - val_categorical_accuracy: 0.5000\n",
      "Epoch 13/1500\n",
      "4/4 [==============================] - ETA: 0s - loss: 1.9454 - categorical_accuracy: 0.4649\n",
      "Epoch 13: categorical_accuracy did not improve from 0.66667\n",
      "4/4 [==============================] - 1s 295ms/step - loss: 1.9454 - categorical_accuracy: 0.4649 - val_loss: 1.1626 - val_categorical_accuracy: 0.1667\n",
      "Epoch 14/1500\n",
      "4/4 [==============================] - ETA: 0s - loss: 1.2911 - categorical_accuracy: 0.5000\n",
      "Epoch 14: categorical_accuracy did not improve from 0.66667\n",
      "4/4 [==============================] - 1s 292ms/step - loss: 1.2911 - categorical_accuracy: 0.5000 - val_loss: 1.0470 - val_categorical_accuracy: 0.3333\n",
      "Epoch 15/1500\n",
      "4/4 [==============================] - ETA: 0s - loss: 1.3144 - categorical_accuracy: 0.5789\n",
      "Epoch 15: categorical_accuracy did not improve from 0.66667\n",
      "4/4 [==============================] - 1s 286ms/step - loss: 1.3144 - categorical_accuracy: 0.5789 - val_loss: 0.9789 - val_categorical_accuracy: 0.8333\n",
      "Epoch 16/1500\n",
      "4/4 [==============================] - ETA: 0s - loss: 0.9614 - categorical_accuracy: 0.7368\n",
      "Epoch 16: categorical_accuracy improved from 0.66667 to 0.73684, saving model to model\\actionnew.h5\n",
      "4/4 [==============================] - 2s 603ms/step - loss: 0.9614 - categorical_accuracy: 0.7368 - val_loss: 0.9478 - val_categorical_accuracy: 0.8333\n",
      "Epoch 17/1500\n",
      "4/4 [==============================] - ETA: 0s - loss: 1.5173 - categorical_accuracy: 0.6930\n",
      "Epoch 17: categorical_accuracy did not improve from 0.73684\n",
      "4/4 [==============================] - 1s 304ms/step - loss: 1.5173 - categorical_accuracy: 0.6930 - val_loss: 0.8388 - val_categorical_accuracy: 0.5000\n",
      "Epoch 18/1500\n",
      "4/4 [==============================] - ETA: 0s - loss: 0.7297 - categorical_accuracy: 0.7456\n",
      "Epoch 18: categorical_accuracy improved from 0.73684 to 0.74561, saving model to model\\actionnew.h5\n",
      "4/4 [==============================] - 2s 631ms/step - loss: 0.7297 - categorical_accuracy: 0.7456 - val_loss: 0.8491 - val_categorical_accuracy: 0.6667\n",
      "Epoch 19/1500\n",
      "4/4 [==============================] - ETA: 0s - loss: 0.7900 - categorical_accuracy: 0.7105\n",
      "Epoch 19: categorical_accuracy did not improve from 0.74561\n",
      "4/4 [==============================] - 1s 284ms/step - loss: 0.7900 - categorical_accuracy: 0.7105 - val_loss: 0.7400 - val_categorical_accuracy: 0.8333\n",
      "Epoch 20/1500\n",
      "4/4 [==============================] - ETA: 0s - loss: 0.6502 - categorical_accuracy: 0.7982\n",
      "Epoch 20: categorical_accuracy improved from 0.74561 to 0.79825, saving model to model\\actionnew.h5\n",
      "4/4 [==============================] - 2s 506ms/step - loss: 0.6502 - categorical_accuracy: 0.7982 - val_loss: 0.5598 - val_categorical_accuracy: 0.8333\n",
      "Epoch 21/1500\n",
      "4/4 [==============================] - ETA: 0s - loss: 1.3579 - categorical_accuracy: 0.6930\n",
      "Epoch 21: categorical_accuracy did not improve from 0.79825\n",
      "4/4 [==============================] - 1s 285ms/step - loss: 1.3579 - categorical_accuracy: 0.6930 - val_loss: 1.3289 - val_categorical_accuracy: 0.5000\n",
      "Epoch 22/1500\n",
      "4/4 [==============================] - ETA: 0s - loss: 1.3664 - categorical_accuracy: 0.5614\n",
      "Epoch 22: categorical_accuracy did not improve from 0.79825\n",
      "4/4 [==============================] - 1s 281ms/step - loss: 1.3664 - categorical_accuracy: 0.5614 - val_loss: 1.3243 - val_categorical_accuracy: 0.5000\n",
      "Epoch 23/1500\n",
      "4/4 [==============================] - ETA: 0s - loss: 1.0347 - categorical_accuracy: 0.6930\n",
      "Epoch 23: categorical_accuracy did not improve from 0.79825\n",
      "4/4 [==============================] - 1s 294ms/step - loss: 1.0347 - categorical_accuracy: 0.6930 - val_loss: 1.4262 - val_categorical_accuracy: 0.3333\n",
      "Epoch 24/1500\n",
      "4/4 [==============================] - ETA: 0s - loss: 1.4293 - categorical_accuracy: 0.5000\n",
      "Epoch 24: categorical_accuracy did not improve from 0.79825\n",
      "4/4 [==============================] - 1s 264ms/step - loss: 1.4293 - categorical_accuracy: 0.5000 - val_loss: 1.2808 - val_categorical_accuracy: 0.5000\n",
      "Epoch 25/1500\n"
     ]
    },
    {
     "name": "stdout",
     "output_type": "stream",
     "text": [
      "4/4 [==============================] - ETA: 0s - loss: 1.1878 - categorical_accuracy: 0.4561\n",
      "Epoch 25: categorical_accuracy did not improve from 0.79825\n",
      "4/4 [==============================] - 1s 283ms/step - loss: 1.1878 - categorical_accuracy: 0.4561 - val_loss: 1.0728 - val_categorical_accuracy: 0.6667\n",
      "Epoch 26/1500\n",
      "4/4 [==============================] - ETA: 0s - loss: 0.9562 - categorical_accuracy: 0.6053\n",
      "Epoch 26: categorical_accuracy did not improve from 0.79825\n",
      "4/4 [==============================] - 1s 306ms/step - loss: 0.9562 - categorical_accuracy: 0.6053 - val_loss: 1.0411 - val_categorical_accuracy: 0.3333\n",
      "Epoch 27/1500\n",
      "4/4 [==============================] - ETA: 0s - loss: 0.9428 - categorical_accuracy: 0.6579\n",
      "Epoch 27: categorical_accuracy did not improve from 0.79825\n",
      "4/4 [==============================] - 1s 283ms/step - loss: 0.9428 - categorical_accuracy: 0.6579 - val_loss: 0.8904 - val_categorical_accuracy: 0.8333\n",
      "Epoch 28/1500\n",
      "4/4 [==============================] - ETA: 0s - loss: 0.9229 - categorical_accuracy: 0.7456\n",
      "Epoch 28: categorical_accuracy did not improve from 0.79825\n",
      "4/4 [==============================] - 1s 268ms/step - loss: 0.9229 - categorical_accuracy: 0.7456 - val_loss: 0.6268 - val_categorical_accuracy: 0.8333\n",
      "Epoch 29/1500\n",
      "4/4 [==============================] - ETA: 0s - loss: 0.7602 - categorical_accuracy: 0.7368\n",
      "Epoch 29: categorical_accuracy did not improve from 0.79825\n",
      "4/4 [==============================] - 1s 278ms/step - loss: 0.7602 - categorical_accuracy: 0.7368 - val_loss: 1.1272 - val_categorical_accuracy: 0.3333\n",
      "Epoch 30/1500\n",
      "4/4 [==============================] - ETA: 0s - loss: 0.8187 - categorical_accuracy: 0.6754\n",
      "Epoch 30: categorical_accuracy did not improve from 0.79825\n",
      "4/4 [==============================] - 1s 284ms/step - loss: 0.8187 - categorical_accuracy: 0.6754 - val_loss: 0.8396 - val_categorical_accuracy: 0.8333\n",
      "Epoch 31/1500\n",
      "4/4 [==============================] - ETA: 0s - loss: 0.6849 - categorical_accuracy: 0.7544\n",
      "Epoch 31: categorical_accuracy did not improve from 0.79825\n",
      "4/4 [==============================] - 1s 271ms/step - loss: 0.6849 - categorical_accuracy: 0.7544 - val_loss: 0.7114 - val_categorical_accuracy: 0.6667\n",
      "Epoch 32/1500\n",
      "4/4 [==============================] - ETA: 0s - loss: 0.5265 - categorical_accuracy: 0.8246\n",
      "Epoch 32: categorical_accuracy improved from 0.79825 to 0.82456, saving model to model\\actionnew.h5\n",
      "4/4 [==============================] - 2s 626ms/step - loss: 0.5265 - categorical_accuracy: 0.8246 - val_loss: 0.7213 - val_categorical_accuracy: 0.5000\n",
      "Epoch 33/1500\n",
      "4/4 [==============================] - ETA: 0s - loss: 0.4374 - categorical_accuracy: 0.8158\n",
      "Epoch 33: categorical_accuracy did not improve from 0.82456\n",
      "4/4 [==============================] - 1s 274ms/step - loss: 0.4374 - categorical_accuracy: 0.8158 - val_loss: 0.7114 - val_categorical_accuracy: 0.3333\n",
      "Epoch 34/1500\n",
      "4/4 [==============================] - ETA: 0s - loss: 0.2859 - categorical_accuracy: 0.8509\n",
      "Epoch 34: categorical_accuracy improved from 0.82456 to 0.85088, saving model to model\\actionnew.h5\n",
      "4/4 [==============================] - 2s 651ms/step - loss: 0.2859 - categorical_accuracy: 0.8509 - val_loss: 0.6717 - val_categorical_accuracy: 0.5000\n",
      "Epoch 35/1500\n",
      "4/4 [==============================] - ETA: 0s - loss: 0.3174 - categorical_accuracy: 0.8246\n",
      "Epoch 35: categorical_accuracy did not improve from 0.85088\n",
      "4/4 [==============================] - 1s 268ms/step - loss: 0.3174 - categorical_accuracy: 0.8246 - val_loss: 0.7210 - val_categorical_accuracy: 0.3333\n",
      "Epoch 36/1500\n",
      "4/4 [==============================] - ETA: 0s - loss: 0.2179 - categorical_accuracy: 0.9035\n",
      "Epoch 36: categorical_accuracy improved from 0.85088 to 0.90351, saving model to model\\actionnew.h5\n",
      "4/4 [==============================] - 2s 632ms/step - loss: 0.2179 - categorical_accuracy: 0.9035 - val_loss: 0.7555 - val_categorical_accuracy: 0.6667\n",
      "Epoch 37/1500\n",
      "4/4 [==============================] - ETA: 0s - loss: 0.1514 - categorical_accuracy: 0.9561\n",
      "Epoch 37: categorical_accuracy improved from 0.90351 to 0.95614, saving model to model\\actionnew.h5\n",
      "4/4 [==============================] - 2s 657ms/step - loss: 0.1514 - categorical_accuracy: 0.9561 - val_loss: 0.2337 - val_categorical_accuracy: 1.0000\n",
      "Epoch 38/1500\n",
      "4/4 [==============================] - ETA: 0s - loss: 0.1171 - categorical_accuracy: 0.9474\n",
      "Epoch 38: categorical_accuracy did not improve from 0.95614\n",
      "4/4 [==============================] - 1s 289ms/step - loss: 0.1171 - categorical_accuracy: 0.9474 - val_loss: 0.0651 - val_categorical_accuracy: 1.0000\n",
      "Epoch 39/1500\n",
      "4/4 [==============================] - ETA: 0s - loss: 0.1363 - categorical_accuracy: 0.9474\n",
      "Epoch 39: categorical_accuracy did not improve from 0.95614\n",
      "4/4 [==============================] - 1s 277ms/step - loss: 0.1363 - categorical_accuracy: 0.9474 - val_loss: 0.7967 - val_categorical_accuracy: 0.6667\n",
      "Epoch 40/1500\n",
      "4/4 [==============================] - ETA: 0s - loss: 0.2205 - categorical_accuracy: 0.9035\n",
      "Epoch 40: categorical_accuracy did not improve from 0.95614\n",
      "4/4 [==============================] - 1s 293ms/step - loss: 0.2205 - categorical_accuracy: 0.9035 - val_loss: 0.9594 - val_categorical_accuracy: 0.6667\n",
      "Epoch 41/1500\n",
      "4/4 [==============================] - ETA: 0s - loss: 0.2570 - categorical_accuracy: 0.8947\n",
      "Epoch 41: categorical_accuracy did not improve from 0.95614\n",
      "4/4 [==============================] - 1s 295ms/step - loss: 0.2570 - categorical_accuracy: 0.8947 - val_loss: 0.5455 - val_categorical_accuracy: 0.8333\n",
      "Epoch 42/1500\n",
      "4/4 [==============================] - ETA: 0s - loss: 0.3052 - categorical_accuracy: 0.8421\n",
      "Epoch 42: categorical_accuracy did not improve from 0.95614\n",
      "4/4 [==============================] - 1s 347ms/step - loss: 0.3052 - categorical_accuracy: 0.8421 - val_loss: 0.2302 - val_categorical_accuracy: 1.0000\n",
      "Epoch 43/1500\n",
      "4/4 [==============================] - ETA: 0s - loss: 0.2306 - categorical_accuracy: 0.9035\n",
      "Epoch 43: categorical_accuracy did not improve from 0.95614\n",
      "4/4 [==============================] - 1s 338ms/step - loss: 0.2306 - categorical_accuracy: 0.9035 - val_loss: 0.1843 - val_categorical_accuracy: 1.0000\n",
      "Epoch 44/1500\n",
      "4/4 [==============================] - ETA: 0s - loss: 0.1958 - categorical_accuracy: 0.9211\n",
      "Epoch 44: categorical_accuracy did not improve from 0.95614\n",
      "4/4 [==============================] - 1s 336ms/step - loss: 0.1958 - categorical_accuracy: 0.9211 - val_loss: 0.3229 - val_categorical_accuracy: 1.0000\n",
      "Epoch 45/1500\n",
      "4/4 [==============================] - ETA: 0s - loss: 0.1657 - categorical_accuracy: 0.9211\n",
      "Epoch 45: categorical_accuracy did not improve from 0.95614\n",
      "4/4 [==============================] - 1s 350ms/step - loss: 0.1657 - categorical_accuracy: 0.9211 - val_loss: 0.1367 - val_categorical_accuracy: 1.0000\n",
      "Epoch 46/1500\n",
      "4/4 [==============================] - ETA: 0s - loss: 0.2209 - categorical_accuracy: 0.9123\n",
      "Epoch 46: categorical_accuracy did not improve from 0.95614\n",
      "4/4 [==============================] - 1s 317ms/step - loss: 0.2209 - categorical_accuracy: 0.9123 - val_loss: 0.2105 - val_categorical_accuracy: 0.8333\n",
      "Epoch 47/1500\n",
      "4/4 [==============================] - ETA: 0s - loss: 0.2416 - categorical_accuracy: 0.8684\n",
      "Epoch 47: categorical_accuracy did not improve from 0.95614\n",
      "4/4 [==============================] - 1s 305ms/step - loss: 0.2416 - categorical_accuracy: 0.8684 - val_loss: 0.2938 - val_categorical_accuracy: 0.8333\n",
      "Epoch 48/1500\n",
      "4/4 [==============================] - ETA: 0s - loss: 0.1821 - categorical_accuracy: 0.9298\n",
      "Epoch 48: categorical_accuracy did not improve from 0.95614\n",
      "4/4 [==============================] - 1s 316ms/step - loss: 0.1821 - categorical_accuracy: 0.9298 - val_loss: 0.2190 - val_categorical_accuracy: 1.0000\n",
      "Epoch 49/1500\n",
      "4/4 [==============================] - ETA: 0s - loss: 0.1258 - categorical_accuracy: 0.9649\n",
      "Epoch 49: categorical_accuracy improved from 0.95614 to 0.96491, saving model to model\\actionnew.h5\n",
      "4/4 [==============================] - 2s 500ms/step - loss: 0.1258 - categorical_accuracy: 0.9649 - val_loss: 0.4513 - val_categorical_accuracy: 0.8333\n",
      "Epoch 50/1500\n"
     ]
    },
    {
     "name": "stdout",
     "output_type": "stream",
     "text": [
      "4/4 [==============================] - ETA: 0s - loss: 0.1160 - categorical_accuracy: 0.9737\n",
      "Epoch 50: categorical_accuracy improved from 0.96491 to 0.97368, saving model to model\\actionnew.h5\n",
      "4/4 [==============================] - 2s 610ms/step - loss: 0.1160 - categorical_accuracy: 0.9737 - val_loss: 0.1931 - val_categorical_accuracy: 1.0000\n",
      "Epoch 51/1500\n",
      "4/4 [==============================] - ETA: 0s - loss: 0.0998 - categorical_accuracy: 0.9649\n",
      "Epoch 51: categorical_accuracy did not improve from 0.97368\n",
      "4/4 [==============================] - 1s 329ms/step - loss: 0.0998 - categorical_accuracy: 0.9649 - val_loss: 0.1738 - val_categorical_accuracy: 1.0000\n",
      "Epoch 52/1500\n",
      "4/4 [==============================] - ETA: 0s - loss: 0.0593 - categorical_accuracy: 0.9912\n",
      "Epoch 52: categorical_accuracy improved from 0.97368 to 0.99123, saving model to model\\actionnew.h5\n",
      "4/4 [==============================] - 2s 627ms/step - loss: 0.0593 - categorical_accuracy: 0.9912 - val_loss: 0.6579 - val_categorical_accuracy: 0.8333\n",
      "Epoch 53/1500\n",
      "4/4 [==============================] - ETA: 0s - loss: 0.0555 - categorical_accuracy: 0.9649\n",
      "Epoch 53: categorical_accuracy did not improve from 0.99123\n",
      "4/4 [==============================] - 1s 303ms/step - loss: 0.0555 - categorical_accuracy: 0.9649 - val_loss: 0.0209 - val_categorical_accuracy: 1.0000\n",
      "Epoch 54/1500\n",
      "4/4 [==============================] - ETA: 0s - loss: 0.0956 - categorical_accuracy: 0.9561\n",
      "Epoch 54: categorical_accuracy did not improve from 0.99123\n",
      "4/4 [==============================] - 1s 301ms/step - loss: 0.0956 - categorical_accuracy: 0.9561 - val_loss: 0.2406 - val_categorical_accuracy: 0.8333\n",
      "Epoch 55/1500\n",
      "4/4 [==============================] - ETA: 0s - loss: 0.0516 - categorical_accuracy: 0.9737\n",
      "Epoch 55: categorical_accuracy did not improve from 0.99123\n",
      "4/4 [==============================] - 1s 323ms/step - loss: 0.0516 - categorical_accuracy: 0.9737 - val_loss: 0.5131 - val_categorical_accuracy: 0.8333\n",
      "Epoch 56/1500\n",
      "4/4 [==============================] - ETA: 0s - loss: 0.0282 - categorical_accuracy: 0.9912\n",
      "Epoch 56: categorical_accuracy did not improve from 0.99123\n",
      "4/4 [==============================] - 1s 327ms/step - loss: 0.0282 - categorical_accuracy: 0.9912 - val_loss: 0.2974 - val_categorical_accuracy: 0.8333\n",
      "Epoch 57/1500\n",
      "4/4 [==============================] - ETA: 0s - loss: 0.0169 - categorical_accuracy: 1.0000\n",
      "Epoch 57: categorical_accuracy improved from 0.99123 to 1.00000, saving model to model\\actionnew.h5\n",
      "4/4 [==============================] - 2s 525ms/step - loss: 0.0169 - categorical_accuracy: 1.0000 - val_loss: 0.0049 - val_categorical_accuracy: 1.0000\n",
      "Epoch 58/1500\n",
      "4/4 [==============================] - ETA: 0s - loss: 0.0224 - categorical_accuracy: 0.9912\n",
      "Epoch 58: categorical_accuracy did not improve from 1.00000\n",
      "4/4 [==============================] - 1s 305ms/step - loss: 0.0224 - categorical_accuracy: 0.9912 - val_loss: 0.1353 - val_categorical_accuracy: 1.0000\n",
      "Epoch 59/1500\n",
      "4/4 [==============================] - ETA: 0s - loss: 0.0151 - categorical_accuracy: 1.0000\n",
      "Epoch 59: categorical_accuracy did not improve from 1.00000\n",
      "4/4 [==============================] - 1s 317ms/step - loss: 0.0151 - categorical_accuracy: 1.0000 - val_loss: 0.0371 - val_categorical_accuracy: 1.0000\n",
      "Epoch 60/1500\n",
      "4/4 [==============================] - ETA: 0s - loss: 0.0203 - categorical_accuracy: 0.9912\n",
      "Epoch 60: categorical_accuracy did not improve from 1.00000\n",
      "4/4 [==============================] - 1s 360ms/step - loss: 0.0203 - categorical_accuracy: 0.9912 - val_loss: 0.0022 - val_categorical_accuracy: 1.0000\n",
      "Epoch 61/1500\n",
      "4/4 [==============================] - ETA: 0s - loss: 0.1456 - categorical_accuracy: 0.9561\n",
      "Epoch 61: categorical_accuracy did not improve from 1.00000\n",
      "4/4 [==============================] - 1s 306ms/step - loss: 0.1456 - categorical_accuracy: 0.9561 - val_loss: 3.5849 - val_categorical_accuracy: 0.6667\n",
      "Epoch 62/1500\n",
      "4/4 [==============================] - ETA: 0s - loss: 0.6818 - categorical_accuracy: 0.8509\n",
      "Epoch 62: categorical_accuracy did not improve from 1.00000\n",
      "4/4 [==============================] - 1s 323ms/step - loss: 0.6818 - categorical_accuracy: 0.8509 - val_loss: 0.2234 - val_categorical_accuracy: 0.8333\n",
      "Epoch 63/1500\n",
      "4/4 [==============================] - ETA: 0s - loss: 0.3444 - categorical_accuracy: 0.8684\n",
      "Epoch 63: categorical_accuracy did not improve from 1.00000\n",
      "4/4 [==============================] - 1s 324ms/step - loss: 0.3444 - categorical_accuracy: 0.8684 - val_loss: 0.1955 - val_categorical_accuracy: 1.0000\n",
      "Epoch 64/1500\n",
      "4/4 [==============================] - ETA: 0s - loss: 5.4473 - categorical_accuracy: 0.7018\n",
      "Epoch 64: categorical_accuracy did not improve from 1.00000\n",
      "4/4 [==============================] - 1s 308ms/step - loss: 5.4473 - categorical_accuracy: 0.7018 - val_loss: 4.4617 - val_categorical_accuracy: 0.3333\n",
      "Epoch 65/1500\n",
      "4/4 [==============================] - ETA: 0s - loss: 32.3248 - categorical_accuracy: 0.5000\n",
      "Epoch 65: categorical_accuracy did not improve from 1.00000\n",
      "4/4 [==============================] - 1s 305ms/step - loss: 32.3248 - categorical_accuracy: 0.5000 - val_loss: 266.3398 - val_categorical_accuracy: 0.3333\n",
      "Epoch 66/1500\n",
      "4/4 [==============================] - ETA: 0s - loss: 40.2199 - categorical_accuracy: 0.5789\n",
      "Epoch 66: categorical_accuracy did not improve from 1.00000\n",
      "4/4 [==============================] - 1s 308ms/step - loss: 40.2199 - categorical_accuracy: 0.5789 - val_loss: 48.5085 - val_categorical_accuracy: 0.1667\n",
      "Epoch 67/1500\n",
      "4/4 [==============================] - ETA: 0s - loss: 13.8388 - categorical_accuracy: 0.4825\n",
      "Epoch 67: categorical_accuracy did not improve from 1.00000\n",
      "4/4 [==============================] - 1s 309ms/step - loss: 13.8388 - categorical_accuracy: 0.4825 - val_loss: 8.5297 - val_categorical_accuracy: 0.3333\n",
      "Epoch 68/1500\n",
      "4/4 [==============================] - ETA: 0s - loss: 10.5757 - categorical_accuracy: 0.3070\n",
      "Epoch 68: categorical_accuracy did not improve from 1.00000\n",
      "4/4 [==============================] - 1s 336ms/step - loss: 10.5757 - categorical_accuracy: 0.3070 - val_loss: 10.5526 - val_categorical_accuracy: 0.5000\n",
      "Epoch 69/1500\n",
      "4/4 [==============================] - ETA: 0s - loss: 4.1359 - categorical_accuracy: 0.4825\n",
      "Epoch 69: categorical_accuracy did not improve from 1.00000\n",
      "4/4 [==============================] - 1s 320ms/step - loss: 4.1359 - categorical_accuracy: 0.4825 - val_loss: 8.6325 - val_categorical_accuracy: 0.5000\n",
      "Epoch 70/1500\n",
      "4/4 [==============================] - ETA: 0s - loss: 20.6846 - categorical_accuracy: 0.3860\n",
      "Epoch 70: categorical_accuracy did not improve from 1.00000\n",
      "4/4 [==============================] - 1s 333ms/step - loss: 20.6846 - categorical_accuracy: 0.3860 - val_loss: 23.2670 - val_categorical_accuracy: 0.0000e+00\n",
      "Epoch 71/1500\n",
      "4/4 [==============================] - ETA: 0s - loss: 14.6631 - categorical_accuracy: 0.2719\n",
      "Epoch 71: categorical_accuracy did not improve from 1.00000\n",
      "4/4 [==============================] - 1s 350ms/step - loss: 14.6631 - categorical_accuracy: 0.2719 - val_loss: 57.1529 - val_categorical_accuracy: 0.1667\n",
      "Epoch 72/1500\n",
      "4/4 [==============================] - ETA: 0s - loss: 118.2474 - categorical_accuracy: 0.3684\n",
      "Epoch 72: categorical_accuracy did not improve from 1.00000\n",
      "4/4 [==============================] - 1s 308ms/step - loss: 118.2474 - categorical_accuracy: 0.3684 - val_loss: 103.2449 - val_categorical_accuracy: 0.0000e+00\n",
      "Epoch 73/1500\n",
      "4/4 [==============================] - ETA: 0s - loss: 65.6230 - categorical_accuracy: 0.3684\n",
      "Epoch 73: categorical_accuracy did not improve from 1.00000\n",
      "4/4 [==============================] - 1s 364ms/step - loss: 65.6230 - categorical_accuracy: 0.3684 - val_loss: 471.7972 - val_categorical_accuracy: 0.0000e+00\n",
      "Epoch 74/1500\n",
      "4/4 [==============================] - ETA: 0s - loss: 234.3203 - categorical_accuracy: 0.3772\n",
      "Epoch 74: categorical_accuracy did not improve from 1.00000\n",
      "4/4 [==============================] - 1s 324ms/step - loss: 234.3203 - categorical_accuracy: 0.3772 - val_loss: 249.5968 - val_categorical_accuracy: 0.0000e+00\n",
      "Epoch 75/1500\n"
     ]
    },
    {
     "name": "stdout",
     "output_type": "stream",
     "text": [
      "4/4 [==============================] - ETA: 0s - loss: 164.6899 - categorical_accuracy: 0.3684\n",
      "Epoch 75: categorical_accuracy did not improve from 1.00000\n",
      "4/4 [==============================] - 1s 340ms/step - loss: 164.6899 - categorical_accuracy: 0.3684 - val_loss: 97.6324 - val_categorical_accuracy: 0.3333\n",
      "Epoch 76/1500\n",
      "4/4 [==============================] - ETA: 0s - loss: 74.1633 - categorical_accuracy: 0.4386\n",
      "Epoch 76: categorical_accuracy did not improve from 1.00000\n",
      "4/4 [==============================] - 1s 340ms/step - loss: 74.1633 - categorical_accuracy: 0.4386 - val_loss: 29.4039 - val_categorical_accuracy: 0.1667\n",
      "Epoch 77/1500\n",
      "4/4 [==============================] - ETA: 0s - loss: 89.0503 - categorical_accuracy: 0.3947\n",
      "Epoch 77: categorical_accuracy did not improve from 1.00000\n",
      "4/4 [==============================] - 1s 336ms/step - loss: 89.0503 - categorical_accuracy: 0.3947 - val_loss: 99.9112 - val_categorical_accuracy: 0.3333\n",
      "Epoch 78/1500\n",
      "4/4 [==============================] - ETA: 0s - loss: 197.5732 - categorical_accuracy: 0.4561\n",
      "Epoch 78: categorical_accuracy did not improve from 1.00000\n",
      "4/4 [==============================] - 1s 317ms/step - loss: 197.5732 - categorical_accuracy: 0.4561 - val_loss: 555.3604 - val_categorical_accuracy: 0.5000\n",
      "Epoch 79/1500\n",
      "4/4 [==============================] - ETA: 0s - loss: 350.8734 - categorical_accuracy: 0.3333\n",
      "Epoch 79: categorical_accuracy did not improve from 1.00000\n",
      "4/4 [==============================] - 1s 308ms/step - loss: 350.8734 - categorical_accuracy: 0.3333 - val_loss: 188.4219 - val_categorical_accuracy: 0.1667\n",
      "Epoch 80/1500\n",
      "4/4 [==============================] - ETA: 0s - loss: 131.4338 - categorical_accuracy: 0.3860\n",
      "Epoch 80: categorical_accuracy did not improve from 1.00000\n",
      "4/4 [==============================] - 1s 316ms/step - loss: 131.4338 - categorical_accuracy: 0.3860 - val_loss: 122.7628 - val_categorical_accuracy: 0.3333\n",
      "Epoch 81/1500\n",
      "4/4 [==============================] - ETA: 0s - loss: 133.1243 - categorical_accuracy: 0.3860\n",
      "Epoch 81: categorical_accuracy did not improve from 1.00000\n",
      "4/4 [==============================] - 1s 316ms/step - loss: 133.1243 - categorical_accuracy: 0.3860 - val_loss: 76.3521 - val_categorical_accuracy: 0.3333\n",
      "Epoch 82/1500\n",
      "4/4 [==============================] - ETA: 0s - loss: 70.9259 - categorical_accuracy: 0.4649\n",
      "Epoch 82: categorical_accuracy did not improve from 1.00000\n",
      "4/4 [==============================] - 1s 317ms/step - loss: 70.9259 - categorical_accuracy: 0.4649 - val_loss: 20.9071 - val_categorical_accuracy: 0.1667\n",
      "Epoch 83/1500\n",
      "4/4 [==============================] - ETA: 0s - loss: 93.2447 - categorical_accuracy: 0.2544 \n",
      "Epoch 83: categorical_accuracy did not improve from 1.00000\n",
      "4/4 [==============================] - 2s 739ms/step - loss: 93.2447 - categorical_accuracy: 0.2544 - val_loss: 53.8328 - val_categorical_accuracy: 0.5000\n",
      "Epoch 84/1500\n",
      "4/4 [==============================] - ETA: 0s - loss: 64.1127 - categorical_accuracy: 0.4298\n",
      "Epoch 84: categorical_accuracy did not improve from 1.00000\n",
      "4/4 [==============================] - 3s 967ms/step - loss: 64.1127 - categorical_accuracy: 0.4298 - val_loss: 74.2210 - val_categorical_accuracy: 0.1667\n",
      "Epoch 85/1500\n",
      "4/4 [==============================] - ETA: 0s - loss: 108.7213 - categorical_accuracy: 0.5000\n",
      "Epoch 85: categorical_accuracy did not improve from 1.00000\n",
      "4/4 [==============================] - 1s 248ms/step - loss: 108.7213 - categorical_accuracy: 0.5000 - val_loss: 1656.5162 - val_categorical_accuracy: 0.3333\n",
      "Epoch 86/1500\n",
      "4/4 [==============================] - ETA: 0s - loss: 233.3510 - categorical_accuracy: 0.3596\n",
      "Epoch 86: categorical_accuracy did not improve from 1.00000\n",
      "4/4 [==============================] - 1s 275ms/step - loss: 233.3510 - categorical_accuracy: 0.3596 - val_loss: 402.3632 - val_categorical_accuracy: 0.1667\n",
      "Epoch 87/1500\n",
      "4/4 [==============================] - ETA: 0s - loss: 586.5312 - categorical_accuracy: 0.3333\n",
      "Epoch 87: categorical_accuracy did not improve from 1.00000\n",
      "4/4 [==============================] - 1s 252ms/step - loss: 586.5312 - categorical_accuracy: 0.3333 - val_loss: 1231.0343 - val_categorical_accuracy: 0.1667\n",
      "Epoch 88/1500\n",
      "4/4 [==============================] - ETA: 0s - loss: 447.4522 - categorical_accuracy: 0.4211\n",
      "Epoch 88: categorical_accuracy did not improve from 1.00000\n",
      "4/4 [==============================] - 1s 274ms/step - loss: 447.4522 - categorical_accuracy: 0.4211 - val_loss: 748.4102 - val_categorical_accuracy: 0.0000e+00\n",
      "Epoch 89/1500\n",
      "4/4 [==============================] - ETA: 0s - loss: 461.9526 - categorical_accuracy: 0.3421\n",
      "Epoch 89: categorical_accuracy did not improve from 1.00000\n",
      "4/4 [==============================] - 1s 273ms/step - loss: 461.9526 - categorical_accuracy: 0.3421 - val_loss: 786.5580 - val_categorical_accuracy: 0.1667\n",
      "Epoch 90/1500\n",
      "4/4 [==============================] - ETA: 0s - loss: 448.5685 - categorical_accuracy: 0.3772\n",
      "Epoch 90: categorical_accuracy did not improve from 1.00000\n",
      "4/4 [==============================] - 1s 281ms/step - loss: 448.5685 - categorical_accuracy: 0.3772 - val_loss: 676.5469 - val_categorical_accuracy: 0.3333\n",
      "Epoch 91/1500\n",
      "4/4 [==============================] - ETA: 0s - loss: 660.0565 - categorical_accuracy: 0.4211\n",
      "Epoch 91: categorical_accuracy did not improve from 1.00000\n",
      "4/4 [==============================] - 1s 267ms/step - loss: 660.0565 - categorical_accuracy: 0.4211 - val_loss: 1125.9396 - val_categorical_accuracy: 0.0000e+00\n",
      "Epoch 92/1500\n",
      "4/4 [==============================] - ETA: 0s - loss: 776.8445 - categorical_accuracy: 0.2982\n",
      "Epoch 92: categorical_accuracy did not improve from 1.00000\n",
      "4/4 [==============================] - 1s 314ms/step - loss: 776.8445 - categorical_accuracy: 0.2982 - val_loss: 222.4598 - val_categorical_accuracy: 0.0000e+00\n",
      "Epoch 93/1500\n"
     ]
    }
   ],
   "source": [
    "model.fit(X_train, y_train, epochs=1500, callbacks=[tb_callback,cp_save],validation_data=(X_test,y_test))"
   ]
  },
  {
   "cell_type": "code",
   "execution_count": null,
   "metadata": {},
   "outputs": [],
   "source": [
    "model.summary()"
   ]
  },
  {
   "cell_type": "code",
   "execution_count": 65,
   "metadata": {},
   "outputs": [
    {
     "data": {
      "text/plain": [
       "array([[[ 0.46335322,  0.43050745, -0.82812434, ...,  0.48921973,\n",
       "          0.72452724, -0.06808087],\n",
       "        [ 0.4629496 ,  0.42661649, -1.08919108, ...,  0.49367702,\n",
       "          0.72528368, -0.06677479],\n",
       "        [ 0.46283674,  0.42559963, -1.12380683, ...,  0.49581206,\n",
       "          0.72021842, -0.06308603],\n",
       "        ...,\n",
       "        [ 0.56755066,  0.34329477, -0.33209577, ...,  0.72919619,\n",
       "          0.53840154, -0.01742066],\n",
       "        [ 0.56984222,  0.34359971, -0.33506638, ...,  0.730165  ,\n",
       "          0.54662824, -0.02260806],\n",
       "        [ 0.5688197 ,  0.34320644, -0.32175237, ...,  0.72936571,\n",
       "          0.55174983, -0.0213532 ]],\n",
       "\n",
       "       [[ 0.3945145 ,  0.41751772, -0.4232401 , ...,  0.        ,\n",
       "          0.        ,  0.        ],\n",
       "        [ 0.39418429,  0.41748416, -0.42616892, ...,  0.        ,\n",
       "          0.        ,  0.        ],\n",
       "        [ 0.3958438 ,  0.41529357, -0.42435947, ...,  0.        ,\n",
       "          0.        ,  0.        ],\n",
       "        ...,\n",
       "        [ 0.38259476,  0.41718405, -0.48204684, ...,  0.40377092,\n",
       "          0.69663882,  0.01388968],\n",
       "        [ 0.38315564,  0.41717643, -0.48456636, ...,  0.39431208,\n",
       "          0.7100094 ,  0.01068987],\n",
       "        [ 0.38358676,  0.41715631, -0.6032697 , ...,  0.39625263,\n",
       "          0.73637623,  0.01738372]],\n",
       "\n",
       "       [[ 0.33451843,  0.35876381, -0.74731356, ...,  0.        ,\n",
       "          0.        ,  0.        ],\n",
       "        [ 0.3599034 ,  0.35843033, -0.90079814, ...,  0.        ,\n",
       "          0.        ,  0.        ],\n",
       "        [ 0.370646  ,  0.35873821, -0.86161673, ...,  0.        ,\n",
       "          0.        ,  0.        ],\n",
       "        ...,\n",
       "        [ 0.32078251,  0.33547324, -0.77686214, ...,  0.        ,\n",
       "          0.        ,  0.        ],\n",
       "        [ 0.31994656,  0.33361065, -0.75735694, ...,  0.        ,\n",
       "          0.        ,  0.        ],\n",
       "        [ 0.31694514,  0.3311249 , -0.74973083, ...,  0.        ,\n",
       "          0.        ,  0.        ]],\n",
       "\n",
       "       ...,\n",
       "\n",
       "       [[ 0.68011224,  0.46976244, -0.55841202, ...,  0.4957155 ,\n",
       "          0.95577192, -0.04727551],\n",
       "        [ 0.67995203,  0.47294486, -0.61650163, ...,  0.49649647,\n",
       "          0.95507222, -0.04559169],\n",
       "        [ 0.59657991,  0.47037414, -0.43768358, ...,  0.48538631,\n",
       "          0.96343392, -0.05344065],\n",
       "        ...,\n",
       "        [ 0.62642127,  0.46786675, -0.43083587, ...,  0.        ,\n",
       "          0.        ,  0.        ],\n",
       "        [ 0.62545669,  0.46427706, -0.38030392, ...,  0.        ,\n",
       "          0.        ,  0.        ],\n",
       "        [ 0.62482941,  0.45967799, -0.36600932, ...,  0.        ,\n",
       "          0.        ,  0.        ]],\n",
       "\n",
       "       [[ 0.        ,  0.        ,  0.        , ...,  0.        ,\n",
       "          0.        ,  0.        ],\n",
       "        [ 0.        ,  0.        ,  0.        , ...,  0.        ,\n",
       "          0.        ,  0.        ],\n",
       "        [ 0.        ,  0.        ,  0.        , ...,  0.        ,\n",
       "          0.        ,  0.        ],\n",
       "        ...,\n",
       "        [ 0.        ,  0.        ,  0.        , ...,  0.        ,\n",
       "          0.        ,  0.        ],\n",
       "        [ 0.        ,  0.        ,  0.        , ...,  0.        ,\n",
       "          0.        ,  0.        ],\n",
       "        [ 0.        ,  0.        ,  0.        , ...,  0.        ,\n",
       "          0.        ,  0.        ]],\n",
       "\n",
       "       [[ 0.4723815 ,  0.48152447, -0.59319031, ...,  0.42418468,\n",
       "          0.94961619, -0.03051382],\n",
       "        [ 0.47194719,  0.49045125, -0.40186247, ...,  0.41056901,\n",
       "          0.56833208, -0.03173155],\n",
       "        [ 0.47220343,  0.49579287, -0.40074164, ...,  0.42260337,\n",
       "          0.56744665, -0.02790847],\n",
       "        ...,\n",
       "        [ 0.44837698,  0.50739259, -0.48503223, ...,  0.41509834,\n",
       "          0.58204997, -0.0373193 ],\n",
       "        [ 0.44835988,  0.50729281, -0.47959787, ...,  0.41482866,\n",
       "          0.57983637, -0.03887605],\n",
       "        [ 0.44834679,  0.50655323, -0.47747946, ...,  0.41447794,\n",
       "          0.57809019, -0.03891164]]])"
      ]
     },
     "execution_count": 65,
     "metadata": {},
     "output_type": "execute_result"
    }
   ],
   "source": [
    "np.array(X_test)"
   ]
  },
  {
   "cell_type": "code",
   "execution_count": 64,
   "metadata": {},
   "outputs": [
    {
     "name": "stdout",
     "output_type": "stream",
     "text": [
      "1/1 [==============================] - 0s 35ms/step\n"
     ]
    },
    {
     "ename": "ValueError",
     "evalue": "Classification metrics can't handle a mix of multilabel-indicator and continuous-multioutput targets",
     "output_type": "error",
     "traceback": [
      "\u001b[1;31m---------------------------------------------------------------------------\u001b[0m",
      "\u001b[1;31mValueError\u001b[0m                                Traceback (most recent call last)",
      "Input \u001b[1;32mIn [64]\u001b[0m, in \u001b[0;36m<cell line: 2>\u001b[1;34m()\u001b[0m\n\u001b[0;32m      1\u001b[0m \u001b[38;5;28;01mfrom\u001b[39;00m \u001b[38;5;21;01msklearn\u001b[39;00m\u001b[38;5;21;01m.\u001b[39;00m\u001b[38;5;21;01mmetrics\u001b[39;00m \u001b[38;5;28;01mimport\u001b[39;00m confusion_matrix\n\u001b[1;32m----> 2\u001b[0m \u001b[43mconfusion_matrix\u001b[49m\u001b[43m(\u001b[49m\u001b[43mnp\u001b[49m\u001b[38;5;241;43m.\u001b[39;49m\u001b[43marray\u001b[49m\u001b[43m(\u001b[49m\u001b[43my_test\u001b[49m\u001b[43m)\u001b[49m\u001b[43m,\u001b[49m\u001b[43mmodel\u001b[49m\u001b[38;5;241;43m.\u001b[39;49m\u001b[43mpredict\u001b[49m\u001b[43m(\u001b[49m\u001b[43mnp\u001b[49m\u001b[38;5;241;43m.\u001b[39;49m\u001b[43marray\u001b[49m\u001b[43m(\u001b[49m\u001b[43mX_test\u001b[49m\u001b[43m)\u001b[49m\u001b[43m)\u001b[49m\u001b[43m)\u001b[49m\n",
      "File \u001b[1;32mC:\\ProgramData\\Anaconda3\\envs\\Action\\lib\\site-packages\\sklearn\\metrics\\_classification.py:307\u001b[0m, in \u001b[0;36mconfusion_matrix\u001b[1;34m(y_true, y_pred, labels, sample_weight, normalize)\u001b[0m\n\u001b[0;32m    222\u001b[0m \u001b[38;5;28;01mdef\u001b[39;00m \u001b[38;5;21mconfusion_matrix\u001b[39m(\n\u001b[0;32m    223\u001b[0m     y_true, y_pred, \u001b[38;5;241m*\u001b[39m, labels\u001b[38;5;241m=\u001b[39m\u001b[38;5;28;01mNone\u001b[39;00m, sample_weight\u001b[38;5;241m=\u001b[39m\u001b[38;5;28;01mNone\u001b[39;00m, normalize\u001b[38;5;241m=\u001b[39m\u001b[38;5;28;01mNone\u001b[39;00m\n\u001b[0;32m    224\u001b[0m ):\n\u001b[0;32m    225\u001b[0m     \u001b[38;5;124;03m\"\"\"Compute confusion matrix to evaluate the accuracy of a classification.\u001b[39;00m\n\u001b[0;32m    226\u001b[0m \n\u001b[0;32m    227\u001b[0m \u001b[38;5;124;03m    By definition a confusion matrix :math:`C` is such that :math:`C_{i, j}`\u001b[39;00m\n\u001b[1;32m   (...)\u001b[0m\n\u001b[0;32m    305\u001b[0m \u001b[38;5;124;03m    (0, 2, 1, 1)\u001b[39;00m\n\u001b[0;32m    306\u001b[0m \u001b[38;5;124;03m    \"\"\"\u001b[39;00m\n\u001b[1;32m--> 307\u001b[0m     y_type, y_true, y_pred \u001b[38;5;241m=\u001b[39m \u001b[43m_check_targets\u001b[49m\u001b[43m(\u001b[49m\u001b[43my_true\u001b[49m\u001b[43m,\u001b[49m\u001b[43m \u001b[49m\u001b[43my_pred\u001b[49m\u001b[43m)\u001b[49m\n\u001b[0;32m    308\u001b[0m     \u001b[38;5;28;01mif\u001b[39;00m y_type \u001b[38;5;129;01mnot\u001b[39;00m \u001b[38;5;129;01min\u001b[39;00m (\u001b[38;5;124m\"\u001b[39m\u001b[38;5;124mbinary\u001b[39m\u001b[38;5;124m\"\u001b[39m, \u001b[38;5;124m\"\u001b[39m\u001b[38;5;124mmulticlass\u001b[39m\u001b[38;5;124m\"\u001b[39m):\n\u001b[0;32m    309\u001b[0m         \u001b[38;5;28;01mraise\u001b[39;00m \u001b[38;5;167;01mValueError\u001b[39;00m(\u001b[38;5;124m\"\u001b[39m\u001b[38;5;132;01m%s\u001b[39;00m\u001b[38;5;124m is not supported\u001b[39m\u001b[38;5;124m\"\u001b[39m \u001b[38;5;241m%\u001b[39m y_type)\n",
      "File \u001b[1;32mC:\\ProgramData\\Anaconda3\\envs\\Action\\lib\\site-packages\\sklearn\\metrics\\_classification.py:93\u001b[0m, in \u001b[0;36m_check_targets\u001b[1;34m(y_true, y_pred)\u001b[0m\n\u001b[0;32m     90\u001b[0m     y_type \u001b[38;5;241m=\u001b[39m {\u001b[38;5;124m\"\u001b[39m\u001b[38;5;124mmulticlass\u001b[39m\u001b[38;5;124m\"\u001b[39m}\n\u001b[0;32m     92\u001b[0m \u001b[38;5;28;01mif\u001b[39;00m \u001b[38;5;28mlen\u001b[39m(y_type) \u001b[38;5;241m>\u001b[39m \u001b[38;5;241m1\u001b[39m:\n\u001b[1;32m---> 93\u001b[0m     \u001b[38;5;28;01mraise\u001b[39;00m \u001b[38;5;167;01mValueError\u001b[39;00m(\n\u001b[0;32m     94\u001b[0m         \u001b[38;5;124m\"\u001b[39m\u001b[38;5;124mClassification metrics can\u001b[39m\u001b[38;5;124m'\u001b[39m\u001b[38;5;124mt handle a mix of \u001b[39m\u001b[38;5;132;01m{0}\u001b[39;00m\u001b[38;5;124m and \u001b[39m\u001b[38;5;132;01m{1}\u001b[39;00m\u001b[38;5;124m targets\u001b[39m\u001b[38;5;124m\"\u001b[39m\u001b[38;5;241m.\u001b[39mformat(\n\u001b[0;32m     95\u001b[0m             type_true, type_pred\n\u001b[0;32m     96\u001b[0m         )\n\u001b[0;32m     97\u001b[0m     )\n\u001b[0;32m     99\u001b[0m \u001b[38;5;66;03m# We can't have more than one value on y_type => The set is no more needed\u001b[39;00m\n\u001b[0;32m    100\u001b[0m y_type \u001b[38;5;241m=\u001b[39m y_type\u001b[38;5;241m.\u001b[39mpop()\n",
      "\u001b[1;31mValueError\u001b[0m: Classification metrics can't handle a mix of multilabel-indicator and continuous-multioutput targets"
     ]
    }
   ],
   "source": []
  },
  {
   "cell_type": "markdown",
   "metadata": {},
   "source": [
    "# 8. Make Predictions"
   ]
  },
  {
   "cell_type": "code",
   "execution_count": null,
   "metadata": {},
   "outputs": [],
   "source": [
    "res = model.predict(X_test)"
   ]
  },
  {
   "cell_type": "code",
   "execution_count": null,
   "metadata": {},
   "outputs": [],
   "source": [
    "actions[np.argmax(res[4])]"
   ]
  },
  {
   "cell_type": "code",
   "execution_count": null,
   "metadata": {},
   "outputs": [],
   "source": [
    "actions[np.argmax(y_test[4])]"
   ]
  },
  {
   "cell_type": "markdown",
   "metadata": {},
   "source": [
    "# 9. Save Weights"
   ]
  },
  {
   "cell_type": "code",
   "execution_count": 9,
   "metadata": {},
   "outputs": [],
   "source": [
    "model.save('action.h5')"
   ]
  },
  {
   "cell_type": "code",
   "execution_count": 62,
   "metadata": {},
   "outputs": [],
   "source": [
    "del model"
   ]
  },
  {
   "cell_type": "code",
   "execution_count": 10,
   "metadata": {},
   "outputs": [],
   "source": [
    "model.load_weights('action.h5')"
   ]
  },
  {
   "cell_type": "markdown",
   "metadata": {},
   "source": [
    "# 10. Evaluation using Confusion Matrix and Accuracy"
   ]
  },
  {
   "cell_type": "code",
   "execution_count": 11,
   "metadata": {},
   "outputs": [],
   "source": [
    "from sklearn.metrics import multilabel_confusion_matrix, accuracy_score"
   ]
  },
  {
   "cell_type": "code",
   "execution_count": 72,
   "metadata": {},
   "outputs": [
    {
     "name": "stdout",
     "output_type": "stream",
     "text": [
      "1/1 [==============================] - 0s 266ms/step\n"
     ]
    }
   ],
   "source": [
    "yhat = model.predict(X_test)"
   ]
  },
  {
   "cell_type": "code",
   "execution_count": 73,
   "metadata": {},
   "outputs": [],
   "source": [
    "ytrue = np.argmax(y_test, axis=1).tolist()\n",
    "yhat = np.argmax(yhat, axis=1).tolist()"
   ]
  },
  {
   "cell_type": "code",
   "execution_count": 74,
   "metadata": {},
   "outputs": [
    {
     "data": {
      "text/plain": [
       "array([[[5, 0],\n",
       "        [1, 0]],\n",
       "\n",
       "       [[2, 2],\n",
       "        [1, 1]],\n",
       "\n",
       "       [[5, 1],\n",
       "        [0, 0]],\n",
       "\n",
       "       [[3, 0],\n",
       "        [1, 2]]], dtype=int64)"
      ]
     },
     "execution_count": 74,
     "metadata": {},
     "output_type": "execute_result"
    }
   ],
   "source": [
    "multilabel_confusion_matrix(ytrue, yhat)"
   ]
  },
  {
   "cell_type": "code",
   "execution_count": 75,
   "metadata": {},
   "outputs": [
    {
     "data": {
      "text/plain": [
       "0.5"
      ]
     },
     "execution_count": 75,
     "metadata": {},
     "output_type": "execute_result"
    }
   ],
   "source": [
    "accuracy_score(ytrue, yhat)"
   ]
  },
  {
   "cell_type": "markdown",
   "metadata": {},
   "source": [
    "# 11. Test in Real Time"
   ]
  },
  {
   "cell_type": "code",
   "execution_count": 12,
   "metadata": {},
   "outputs": [],
   "source": [
    "from scipy import stats"
   ]
  },
  {
   "cell_type": "code",
   "execution_count": 13,
   "metadata": {},
   "outputs": [],
   "source": [
    "colors = [(245,117,16), (117,245,16), (16,117,245)]\n",
    "def prob_viz(res, actions, input_frame, colors):\n",
    "    output_frame = input_frame.copy()\n",
    "    for num, prob in enumerate(res):\n",
    "        cv2.rectangle(output_frame, (0,60+num*40), (int(prob*100), 90+num*40), colors[num], -1)\n",
    "        cv2.putText(output_frame, actions[num], (0, 85+num*40), cv2.FONT_HERSHEY_SIMPLEX, 1, (255,255,255), 2, cv2.LINE_AA)\n",
    "        \n",
    "    return output_frame"
   ]
  },
  {
   "cell_type": "code",
   "execution_count": 78,
   "metadata": {},
   "outputs": [
    {
     "ename": "TypeError",
     "evalue": "only size-1 arrays can be converted to Python scalars",
     "output_type": "error",
     "traceback": [
      "\u001b[1;31m---------------------------------------------------------------------------\u001b[0m",
      "\u001b[1;31mTypeError\u001b[0m                                 Traceback (most recent call last)",
      "Input \u001b[1;32mIn [78]\u001b[0m, in \u001b[0;36m<cell line: 2>\u001b[1;34m()\u001b[0m\n\u001b[0;32m      1\u001b[0m plt\u001b[38;5;241m.\u001b[39mfigure(figsize\u001b[38;5;241m=\u001b[39m(\u001b[38;5;241m18\u001b[39m,\u001b[38;5;241m18\u001b[39m))\n\u001b[1;32m----> 2\u001b[0m plt\u001b[38;5;241m.\u001b[39mimshow(\u001b[43mprob_viz\u001b[49m\u001b[43m(\u001b[49m\u001b[43mres\u001b[49m\u001b[43m,\u001b[49m\u001b[43m \u001b[49m\u001b[43mactions\u001b[49m\u001b[43m,\u001b[49m\u001b[43m \u001b[49m\u001b[43mimage\u001b[49m\u001b[43m,\u001b[49m\u001b[43m \u001b[49m\u001b[43mcolors\u001b[49m\u001b[43m)\u001b[49m)\n",
      "Input \u001b[1;32mIn [77]\u001b[0m, in \u001b[0;36mprob_viz\u001b[1;34m(res, actions, input_frame, colors)\u001b[0m\n\u001b[0;32m      3\u001b[0m output_frame \u001b[38;5;241m=\u001b[39m input_frame\u001b[38;5;241m.\u001b[39mcopy()\n\u001b[0;32m      4\u001b[0m \u001b[38;5;28;01mfor\u001b[39;00m num, prob \u001b[38;5;129;01min\u001b[39;00m \u001b[38;5;28menumerate\u001b[39m(res):\n\u001b[1;32m----> 5\u001b[0m     cv2\u001b[38;5;241m.\u001b[39mrectangle(output_frame, (\u001b[38;5;241m0\u001b[39m,\u001b[38;5;241m60\u001b[39m\u001b[38;5;241m+\u001b[39mnum\u001b[38;5;241m*\u001b[39m\u001b[38;5;241m40\u001b[39m), (\u001b[38;5;28;43mint\u001b[39;49m\u001b[43m(\u001b[49m\u001b[43mprob\u001b[49m\u001b[38;5;241;43m*\u001b[39;49m\u001b[38;5;241;43m100\u001b[39;49m\u001b[43m)\u001b[49m, \u001b[38;5;241m90\u001b[39m\u001b[38;5;241m+\u001b[39mnum\u001b[38;5;241m*\u001b[39m\u001b[38;5;241m40\u001b[39m), colors[num], \u001b[38;5;241m-\u001b[39m\u001b[38;5;241m1\u001b[39m)\n\u001b[0;32m      6\u001b[0m     cv2\u001b[38;5;241m.\u001b[39mputText(output_frame, actions[num], (\u001b[38;5;241m0\u001b[39m, \u001b[38;5;241m85\u001b[39m\u001b[38;5;241m+\u001b[39mnum\u001b[38;5;241m*\u001b[39m\u001b[38;5;241m40\u001b[39m), cv2\u001b[38;5;241m.\u001b[39mFONT_HERSHEY_SIMPLEX, \u001b[38;5;241m1\u001b[39m, (\u001b[38;5;241m255\u001b[39m,\u001b[38;5;241m255\u001b[39m,\u001b[38;5;241m255\u001b[39m), \u001b[38;5;241m2\u001b[39m, cv2\u001b[38;5;241m.\u001b[39mLINE_AA)\n\u001b[0;32m      8\u001b[0m \u001b[38;5;28;01mreturn\u001b[39;00m output_frame\n",
      "\u001b[1;31mTypeError\u001b[0m: only size-1 arrays can be converted to Python scalars"
     ]
    },
    {
     "data": {
      "text/plain": [
       "<Figure size 1296x1296 with 0 Axes>"
      ]
     },
     "metadata": {},
     "output_type": "display_data"
    }
   ],
   "source": [
    "plt.figure(figsize=(18,18))\n",
    "plt.imshow(prob_viz(res, actions, image, colors))"
   ]
  },
  {
   "cell_type": "code",
   "execution_count": 16,
   "metadata": {},
   "outputs": [
    {
     "ename": "NameError",
     "evalue": "name 'mediapipe_detection' is not defined",
     "output_type": "error",
     "traceback": [
      "\u001b[1;31m---------------------------------------------------------------------------\u001b[0m",
      "\u001b[1;31mNameError\u001b[0m                                 Traceback (most recent call last)",
      "Input \u001b[1;32mIn [16]\u001b[0m, in \u001b[0;36m<cell line: 8>\u001b[1;34m()\u001b[0m\n\u001b[0;32m     12\u001b[0m ret, frame \u001b[38;5;241m=\u001b[39m cap\u001b[38;5;241m.\u001b[39mread()\n\u001b[0;32m     14\u001b[0m \u001b[38;5;66;03m# Make detections\u001b[39;00m\n\u001b[1;32m---> 15\u001b[0m image, results \u001b[38;5;241m=\u001b[39m \u001b[43mmediapipe_detection\u001b[49m(frame, holistic)\n\u001b[0;32m     16\u001b[0m \u001b[38;5;28mprint\u001b[39m(results)\n\u001b[0;32m     18\u001b[0m \u001b[38;5;66;03m# Draw landmarks\u001b[39;00m\n",
      "\u001b[1;31mNameError\u001b[0m: name 'mediapipe_detection' is not defined"
     ]
    }
   ],
   "source": [
    "# 1. New detection variables\n",
    "sequence = []\n",
    "sentence = []\n",
    "threshold = 0.8\n",
    "\n",
    "cap = cv2.VideoCapture(0)\n",
    "# Set mediapipe model \n",
    "with mp_holistic.Holistic(min_detection_confidence=0.5, min_tracking_confidence=0.5) as holistic:\n",
    "    while cap.isOpened():\n",
    "\n",
    "        # Read feed\n",
    "        ret, frame = cap.read()\n",
    "\n",
    "        # Make detections\n",
    "        image, results = mediapipe_detection(frame, holistic)\n",
    "        print(results)\n",
    "        \n",
    "        # Draw landmarks\n",
    "        draw_styled_landmarks(image, results)\n",
    "        \n",
    "        # 2. Prediction logic\n",
    "        keypoints = extract_keypoints(results)\n",
    "#         sequence.insert(0,keypoints)\n",
    "#         sequence = sequence[:30]\n",
    "        sequence.append(keypoints)\n",
    "        sequence = sequence[-30:]\n",
    "        \n",
    "        if len(sequence) == 30:\n",
    "            res = model.predict(np.expand_dims(sequence, axis=0))[0]\n",
    "            print(actions[np.argmax(res)])\n",
    "            \n",
    "            \n",
    "        #3. Viz logic\n",
    "            if res[np.argmax(res)] > threshold: \n",
    "                if len(sentence) > 0: \n",
    "                    if actions[np.argmax(res)] != sentence[-1]:\n",
    "                        sentence.append(actions[np.argmax(res)])\n",
    "                else:\n",
    "                    sentence.append(actions[np.argmax(res)])\n",
    "\n",
    "            if len(sentence) > 5: \n",
    "                sentence = sentence[-5:]\n",
    "\n",
    "            # Viz probabilities\n",
    "            image = prob_viz(res, actions, image, colors)\n",
    "            \n",
    "        cv2.rectangle(image, (0,0), (640, 40), (245, 117, 16), -1)\n",
    "        cv2.putText(image, ' '.join(sentence), (3,30), \n",
    "                       cv2.FONT_HERSHEY_SIMPLEX, 1, (255, 255, 255), 2, cv2.LINE_AA)\n",
    "        \n",
    "        # Show to screen\n",
    "        cv2.imshow('OpenCV Feed', image)\n",
    "\n",
    "        # Break gracefully\n",
    "        if cv2.waitKey(10) & 0xFF == ord('q'):\n",
    "            break\n",
    "    cap.release()\n",
    "    cv2.destroyAllWindows()"
   ]
  },
  {
   "cell_type": "code",
   "execution_count": null,
   "metadata": {},
   "outputs": [],
   "source": []
  }
 ],
 "metadata": {
  "kernelspec": {
   "display_name": "Python 3 (ipykernel)",
   "language": "python",
   "name": "python3"
  },
  "language_info": {
   "codemirror_mode": {
    "name": "ipython",
    "version": 3
   },
   "file_extension": ".py",
   "mimetype": "text/x-python",
   "name": "python",
   "nbconvert_exporter": "python",
   "pygments_lexer": "ipython3",
   "version": "3.9.12"
  }
 },
 "nbformat": 4,
 "nbformat_minor": 2
}
